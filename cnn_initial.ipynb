{
  "nbformat": 4,
  "nbformat_minor": 0,
  "metadata": {
    "colab": {
      "provenance": [],
      "collapsed_sections": []
    },
    "kernelspec": {
      "name": "python3",
      "display_name": "Python 3"
    },
    "language_info": {
      "name": "python"
    }
  },
  "cells": [
    {
      "cell_type": "code",
      "execution_count": 1,
      "metadata": {
        "id": "YLFU6UQSQDgp"
      },
      "outputs": [],
      "source": [
        "import tensorflow as tf\n",
        "\n",
        "from tensorflow.keras import datasets, layers, models\n",
        "import matplotlib.pyplot as plt"
      ]
    },
    {
      "cell_type": "code",
      "source": [
        "\n",
        "from google.colab import drive\n",
        "drive.mount('/content/drive/')"
      ],
      "metadata": {
        "colab": {
          "base_uri": "https://localhost:8080/"
        },
        "id": "Xr9D7ZdtXbjo",
        "outputId": "973363a3-c6a7-4fac-adc3-13d2fde8d55f"
      },
      "execution_count": 2,
      "outputs": [
        {
          "output_type": "stream",
          "name": "stdout",
          "text": [
            "Mounted at /content/drive/\n"
          ]
        }
      ]
    },
    {
      "cell_type": "code",
      "source": [
        "!ls"
      ],
      "metadata": {
        "colab": {
          "base_uri": "https://localhost:8080/"
        },
        "id": "8bVMhp_GXkYY",
        "outputId": "1572fc43-7302-4446-a682-7cfd608329d2"
      },
      "execution_count": 3,
      "outputs": [
        {
          "output_type": "stream",
          "name": "stdout",
          "text": [
            "drive  sample_data\n"
          ]
        }
      ]
    },
    {
      "cell_type": "code",
      "source": [
        "%cd drive/MyDrive"
      ],
      "metadata": {
        "colab": {
          "base_uri": "https://localhost:8080/"
        },
        "id": "JrG0M0bSXsi6",
        "outputId": "127dc583-abb0-4ec2-cfe8-d254e4b340d9"
      },
      "execution_count": 4,
      "outputs": [
        {
          "output_type": "stream",
          "name": "stdout",
          "text": [
            "/content/drive/MyDrive\n"
          ]
        }
      ]
    },
    {
      "cell_type": "code",
      "source": [
        "import pandas as pd\n",
        "\n",
        "subclass_annotations = pd.read_csv('20221030-011825_annot_df_sorted_subclassed_MLFs_32_slide_no_2.csv')"
      ],
      "metadata": {
        "id": "XnQkrO2MXup_"
      },
      "execution_count": 5,
      "outputs": []
    },
    {
      "cell_type": "code",
      "source": [
        "%cd MITOS_WSI_CMC/"
      ],
      "metadata": {
        "colab": {
          "base_uri": "https://localhost:8080/"
        },
        "id": "a3sHnetZJ-ae",
        "outputId": "43ca89a8-ce74-465c-c510-e8f6202e3ac9"
      },
      "execution_count": 6,
      "outputs": [
        {
          "output_type": "stream",
          "name": "stdout",
          "text": [
            "/content/drive/MyDrive/MITOS_WSI_CMC\n"
          ]
        }
      ]
    },
    {
      "cell_type": "code",
      "source": [
        "%cd databases"
      ],
      "metadata": {
        "colab": {
          "base_uri": "https://localhost:8080/"
        },
        "id": "a8cK1mSUX4LN",
        "outputId": "19a0098f-7c18-4af7-f97e-3f6ceb85f292"
      },
      "execution_count": 7,
      "outputs": [
        {
          "output_type": "stream",
          "name": "stdout",
          "text": [
            "/content/drive/MyDrive/MITOS_WSI_CMC/databases\n"
          ]
        }
      ]
    },
    {
      "cell_type": "code",
      "source": [
        "subclass_annotations.head()"
      ],
      "metadata": {
        "colab": {
          "base_uri": "https://localhost:8080/",
          "height": 206
        },
        "id": "pxryeOpaYHFB",
        "outputId": "97dd5275-f5d0-4745-c63d-3c861fe68ce2"
      },
      "execution_count": 8,
      "outputs": [
        {
          "output_type": "execute_result",
          "data": {
            "text/plain": [
              "   Unnamed: 0   key   uid             ctr                              coord  \\\n",
              "0           0     1     1   [21029, 7246]  [[21004  7221]\\r\\n [21054  7271]]   \n",
              "1         172  1378  1378  [12420, 28597]  [[12395 28572]\\r\\n [12445 28622]]   \n",
              "2         174  1380  1380  [28407, 29819]  [[28382 29794]\\r\\n [28432 29844]]   \n",
              "3         175  1381  1381  [28124, 29658]  [[28099 29633]\\r\\n [28149 29683]]   \n",
              "4         176  1382  1382  [27694, 29623]  [[27669 29598]\\r\\n [27719 29648]]   \n",
              "\n",
              "   lbl                                  guid  subcl  \n",
              "0    1  05535b17-a3f3-48f9-ae21-dbf9617efcf1      8  \n",
              "1    1  39f4c617-c398-421b-a392-ba96a3e5c493      0  \n",
              "2    1  64827d9b-9de4-4672-a413-a0c58fee8bff      8  \n",
              "3    1  ebd10fc9-384f-450b-ab58-aed2869658c2      0  \n",
              "4    1  3b021804-0fe4-4b34-81ea-ee8be751cc8d      8  "
            ],
            "text/html": [
              "\n",
              "  <div id=\"df-b9e2a5e1-c834-4927-a3f6-b696a41ca603\">\n",
              "    <div class=\"colab-df-container\">\n",
              "      <div>\n",
              "<style scoped>\n",
              "    .dataframe tbody tr th:only-of-type {\n",
              "        vertical-align: middle;\n",
              "    }\n",
              "\n",
              "    .dataframe tbody tr th {\n",
              "        vertical-align: top;\n",
              "    }\n",
              "\n",
              "    .dataframe thead th {\n",
              "        text-align: right;\n",
              "    }\n",
              "</style>\n",
              "<table border=\"1\" class=\"dataframe\">\n",
              "  <thead>\n",
              "    <tr style=\"text-align: right;\">\n",
              "      <th></th>\n",
              "      <th>Unnamed: 0</th>\n",
              "      <th>key</th>\n",
              "      <th>uid</th>\n",
              "      <th>ctr</th>\n",
              "      <th>coord</th>\n",
              "      <th>lbl</th>\n",
              "      <th>guid</th>\n",
              "      <th>subcl</th>\n",
              "    </tr>\n",
              "  </thead>\n",
              "  <tbody>\n",
              "    <tr>\n",
              "      <th>0</th>\n",
              "      <td>0</td>\n",
              "      <td>1</td>\n",
              "      <td>1</td>\n",
              "      <td>[21029, 7246]</td>\n",
              "      <td>[[21004  7221]\\r\\n [21054  7271]]</td>\n",
              "      <td>1</td>\n",
              "      <td>05535b17-a3f3-48f9-ae21-dbf9617efcf1</td>\n",
              "      <td>8</td>\n",
              "    </tr>\n",
              "    <tr>\n",
              "      <th>1</th>\n",
              "      <td>172</td>\n",
              "      <td>1378</td>\n",
              "      <td>1378</td>\n",
              "      <td>[12420, 28597]</td>\n",
              "      <td>[[12395 28572]\\r\\n [12445 28622]]</td>\n",
              "      <td>1</td>\n",
              "      <td>39f4c617-c398-421b-a392-ba96a3e5c493</td>\n",
              "      <td>0</td>\n",
              "    </tr>\n",
              "    <tr>\n",
              "      <th>2</th>\n",
              "      <td>174</td>\n",
              "      <td>1380</td>\n",
              "      <td>1380</td>\n",
              "      <td>[28407, 29819]</td>\n",
              "      <td>[[28382 29794]\\r\\n [28432 29844]]</td>\n",
              "      <td>1</td>\n",
              "      <td>64827d9b-9de4-4672-a413-a0c58fee8bff</td>\n",
              "      <td>8</td>\n",
              "    </tr>\n",
              "    <tr>\n",
              "      <th>3</th>\n",
              "      <td>175</td>\n",
              "      <td>1381</td>\n",
              "      <td>1381</td>\n",
              "      <td>[28124, 29658]</td>\n",
              "      <td>[[28099 29633]\\r\\n [28149 29683]]</td>\n",
              "      <td>1</td>\n",
              "      <td>ebd10fc9-384f-450b-ab58-aed2869658c2</td>\n",
              "      <td>0</td>\n",
              "    </tr>\n",
              "    <tr>\n",
              "      <th>4</th>\n",
              "      <td>176</td>\n",
              "      <td>1382</td>\n",
              "      <td>1382</td>\n",
              "      <td>[27694, 29623]</td>\n",
              "      <td>[[27669 29598]\\r\\n [27719 29648]]</td>\n",
              "      <td>1</td>\n",
              "      <td>3b021804-0fe4-4b34-81ea-ee8be751cc8d</td>\n",
              "      <td>8</td>\n",
              "    </tr>\n",
              "  </tbody>\n",
              "</table>\n",
              "</div>\n",
              "      <button class=\"colab-df-convert\" onclick=\"convertToInteractive('df-b9e2a5e1-c834-4927-a3f6-b696a41ca603')\"\n",
              "              title=\"Convert this dataframe to an interactive table.\"\n",
              "              style=\"display:none;\">\n",
              "        \n",
              "  <svg xmlns=\"http://www.w3.org/2000/svg\" height=\"24px\"viewBox=\"0 0 24 24\"\n",
              "       width=\"24px\">\n",
              "    <path d=\"M0 0h24v24H0V0z\" fill=\"none\"/>\n",
              "    <path d=\"M18.56 5.44l.94 2.06.94-2.06 2.06-.94-2.06-.94-.94-2.06-.94 2.06-2.06.94zm-11 1L8.5 8.5l.94-2.06 2.06-.94-2.06-.94L8.5 2.5l-.94 2.06-2.06.94zm10 10l.94 2.06.94-2.06 2.06-.94-2.06-.94-.94-2.06-.94 2.06-2.06.94z\"/><path d=\"M17.41 7.96l-1.37-1.37c-.4-.4-.92-.59-1.43-.59-.52 0-1.04.2-1.43.59L10.3 9.45l-7.72 7.72c-.78.78-.78 2.05 0 2.83L4 21.41c.39.39.9.59 1.41.59.51 0 1.02-.2 1.41-.59l7.78-7.78 2.81-2.81c.8-.78.8-2.07 0-2.86zM5.41 20L4 18.59l7.72-7.72 1.47 1.35L5.41 20z\"/>\n",
              "  </svg>\n",
              "      </button>\n",
              "      \n",
              "  <style>\n",
              "    .colab-df-container {\n",
              "      display:flex;\n",
              "      flex-wrap:wrap;\n",
              "      gap: 12px;\n",
              "    }\n",
              "\n",
              "    .colab-df-convert {\n",
              "      background-color: #E8F0FE;\n",
              "      border: none;\n",
              "      border-radius: 50%;\n",
              "      cursor: pointer;\n",
              "      display: none;\n",
              "      fill: #1967D2;\n",
              "      height: 32px;\n",
              "      padding: 0 0 0 0;\n",
              "      width: 32px;\n",
              "    }\n",
              "\n",
              "    .colab-df-convert:hover {\n",
              "      background-color: #E2EBFA;\n",
              "      box-shadow: 0px 1px 2px rgba(60, 64, 67, 0.3), 0px 1px 3px 1px rgba(60, 64, 67, 0.15);\n",
              "      fill: #174EA6;\n",
              "    }\n",
              "\n",
              "    [theme=dark] .colab-df-convert {\n",
              "      background-color: #3B4455;\n",
              "      fill: #D2E3FC;\n",
              "    }\n",
              "\n",
              "    [theme=dark] .colab-df-convert:hover {\n",
              "      background-color: #434B5C;\n",
              "      box-shadow: 0px 1px 3px 1px rgba(0, 0, 0, 0.15);\n",
              "      filter: drop-shadow(0px 1px 2px rgba(0, 0, 0, 0.3));\n",
              "      fill: #FFFFFF;\n",
              "    }\n",
              "  </style>\n",
              "\n",
              "      <script>\n",
              "        const buttonEl =\n",
              "          document.querySelector('#df-b9e2a5e1-c834-4927-a3f6-b696a41ca603 button.colab-df-convert');\n",
              "        buttonEl.style.display =\n",
              "          google.colab.kernel.accessAllowed ? 'block' : 'none';\n",
              "\n",
              "        async function convertToInteractive(key) {\n",
              "          const element = document.querySelector('#df-b9e2a5e1-c834-4927-a3f6-b696a41ca603');\n",
              "          const dataTable =\n",
              "            await google.colab.kernel.invokeFunction('convertToInteractive',\n",
              "                                                     [key], {});\n",
              "          if (!dataTable) return;\n",
              "\n",
              "          const docLinkHtml = 'Like what you see? Visit the ' +\n",
              "            '<a target=\"_blank\" href=https://colab.research.google.com/notebooks/data_table.ipynb>data table notebook</a>'\n",
              "            + ' to learn more about interactive tables.';\n",
              "          element.innerHTML = '';\n",
              "          dataTable['output_type'] = 'display_data';\n",
              "          await google.colab.output.renderOutput(dataTable, element);\n",
              "          const docLink = document.createElement('div');\n",
              "          docLink.innerHTML = docLinkHtml;\n",
              "          element.appendChild(docLink);\n",
              "        }\n",
              "      </script>\n",
              "    </div>\n",
              "  </div>\n",
              "  "
            ]
          },
          "metadata": {},
          "execution_count": 8
        }
      ]
    },
    {
      "cell_type": "code",
      "source": [
        "subclass_annotations = subclass_annotations.drop(['ctr', 'coord', 'guid'], axis = 1)"
      ],
      "metadata": {
        "id": "yESnHiqlYKB_"
      },
      "execution_count": 9,
      "outputs": []
    },
    {
      "cell_type": "code",
      "source": [
        "%cd ..\n",
        "!ls"
      ],
      "metadata": {
        "colab": {
          "base_uri": "https://localhost:8080/"
        },
        "id": "2f8rM72bZ72N",
        "outputId": "b4379894-0019-408e-e77f-29a51c736f78"
      },
      "execution_count": 10,
      "outputs": [
        {
          "output_type": "stream",
          "name": "stdout",
          "text": [
            "/content/drive/MyDrive/MITOS_WSI_CMC\n",
            "databases\t\t    README.md\n",
            "data_loader.py\t\t    results\n",
            "Evaluation.ipynb\t    RetinaNet-CMC-CODAEL.ipynb\n",
            "Inference-RetinaNet-512.py  RetinaNet-CMC-MEL.ipynb\n",
            "lib\t\t\t    RetinaNet-CMC-ODAEL.ipynb\n",
            "model\t\t\t    Setup.ipynb\n",
            "models\t\t\t    title_CMC.png\n",
            "PatchClassifier\t\t    WSI\n",
            "__pycache__\n"
          ]
        }
      ]
    },
    {
      "cell_type": "code",
      "source": [
        "from numpy.core.multiarray import packbits\n",
        "#Load FSL CSV\n",
        "#Load images\n",
        "!pwd\n",
        "import os\n",
        "from os import listdir\n",
        "import cv2\n",
        "from google.colab.patches import cv2_imshow\n",
        "from matplotlib import image as mpimg\n",
        "from matplotlib import pyplot as plt\n",
        "\n",
        "labels = subclass_annotations['subcl']\n",
        "imagelist = []\n",
        "\n",
        "# get the path/directory\n",
        "folder_dir = \"databases\"\n",
        "for images in os.listdir(folder_dir):\n",
        " \n",
        "    # check if the image ends with png\n",
        "    if (images.endswith(\".png\")):\n",
        "        print(images)\n",
        "        temp = mpimg.imread('/content/drive/MyDrive/MITOS_WSI_CMC/databases/' + str(images))\n",
        "        plt.imshow(temp)\n",
        "        imagelist.append(temp)\n",
        "#train_images, test_images = train_images / 255.0, test_images / 255.0\n",
        "\n",
        "plt.imshow(imagelist[55])\n",
        "plt.show()\n",
        "print(labels)"
      ],
      "metadata": {
        "colab": {
          "base_uri": "https://localhost:8080/",
          "height": 1000
        },
        "id": "iTfmnyObQJCC",
        "outputId": "cfbe33ab-6f5f-4d85-9368-d005b6b1e7dc"
      },
      "execution_count": 11,
      "outputs": [
        {
          "output_type": "stream",
          "name": "stdout",
          "text": [
            "/content/drive/MyDrive/MITOS_WSI_CMC\n",
            "0.png\n",
            "2.png\n",
            "1.png\n",
            "3.png\n",
            "4.png\n",
            "6.png\n",
            "5.png\n",
            "7.png\n",
            "8.png\n",
            "9.png\n",
            "10.png\n",
            "11.png\n",
            "12.png\n",
            "13.png\n",
            "15.png\n",
            "14.png\n",
            "16.png\n",
            "129.png\n",
            "130.png\n",
            "132.png\n",
            "133.png\n",
            "134.png\n",
            "135.png\n",
            "137.png\n",
            "136.png\n",
            "138.png\n",
            "140.png\n",
            "142.png\n",
            "141.png\n",
            "145.png\n",
            "144.png\n",
            "146.png\n",
            "147.png\n",
            "151.png\n",
            "149.png\n",
            "154.png\n",
            "155.png\n",
            "156.png\n",
            "157.png\n",
            "162.png\n",
            "158.png\n",
            "163.png\n",
            "191.png\n",
            "164.png\n",
            "194.png\n",
            "192.png\n",
            "196.png\n",
            "197.png\n",
            "198.png\n",
            "17.png\n",
            "19.png\n",
            "18.png\n",
            "20.png\n",
            "21.png\n",
            "23.png\n",
            "24.png\n",
            "22.png\n",
            "25.png\n",
            "26.png\n",
            "27.png\n",
            "28.png\n",
            "29.png\n",
            "30.png\n",
            "31.png\n",
            "32.png\n",
            "33.png\n",
            "34.png\n",
            "35.png\n",
            "37.png\n",
            "36.png\n",
            "38.png\n",
            "39.png\n",
            "40.png\n",
            "41.png\n",
            "42.png\n",
            "43.png\n",
            "44.png\n",
            "45.png\n",
            "46.png\n",
            "47.png\n",
            "48.png\n",
            "49.png\n",
            "50.png\n",
            "51.png\n",
            "52.png\n",
            "53.png\n",
            "54.png\n",
            "55.png\n",
            "57.png\n",
            "58.png\n",
            "56.png\n",
            "59.png\n",
            "60.png\n",
            "62.png\n",
            "61.png\n",
            "63.png\n",
            "64.png\n",
            "65.png\n",
            "66.png\n",
            "68.png\n",
            "67.png\n",
            "69.png\n",
            "70.png\n",
            "71.png\n",
            "72.png\n",
            "73.png\n",
            "74.png\n",
            "75.png\n",
            "78.png\n",
            "76.png\n",
            "77.png\n",
            "79.png\n",
            "80.png\n",
            "81.png\n",
            "82.png\n",
            "83.png\n",
            "84.png\n",
            "85.png\n",
            "86.png\n",
            "87.png\n",
            "88.png\n",
            "89.png\n",
            "90.png\n",
            "92.png\n",
            "93.png\n",
            "91.png\n",
            "94.png\n",
            "95.png\n",
            "96.png\n",
            "97.png\n",
            "98.png\n",
            "99.png\n",
            "100.png\n",
            "101.png\n",
            "102.png\n",
            "103.png\n",
            "104.png\n",
            "105.png\n",
            "106.png\n",
            "107.png\n",
            "108.png\n",
            "109.png\n",
            "110.png\n",
            "111.png\n",
            "113.png\n",
            "112.png\n",
            "114.png\n",
            "116.png\n",
            "115.png\n",
            "117.png\n",
            "118.png\n",
            "119.png\n",
            "120.png\n",
            "124.png\n",
            "121.png\n",
            "123.png\n",
            "122.png\n",
            "126.png\n",
            "125.png\n",
            "127.png\n",
            "128.png\n",
            "131.png\n",
            "139.png\n",
            "143.png\n",
            "150.png\n",
            "152.png\n",
            "148.png\n",
            "153.png\n",
            "161.png\n",
            "159.png\n",
            "160.png\n",
            "165.png\n",
            "166.png\n",
            "167.png\n",
            "168.png\n",
            "169.png\n",
            "170.png\n",
            "171.png\n",
            "172.png\n",
            "173.png\n",
            "175.png\n",
            "174.png\n",
            "176.png\n",
            "177.png\n",
            "180.png\n",
            "178.png\n",
            "179.png\n",
            "181.png\n",
            "183.png\n",
            "182.png\n",
            "185.png\n",
            "184.png\n",
            "186.png\n",
            "187.png\n",
            "189.png\n",
            "188.png\n",
            "190.png\n",
            "193.png\n",
            "195.png\n",
            "199.png\n",
            "200.png\n",
            "201.png\n",
            "202.png\n",
            "203.png\n",
            "204.png\n",
            "205.png\n",
            "206.png\n",
            "207.png\n",
            "208.png\n",
            "209.png\n",
            "210.png\n",
            "212.png\n",
            "211.png\n",
            "213.png\n",
            "214.png\n",
            "215.png\n",
            "216.png\n",
            "217.png\n",
            "218.png\n",
            "219.png\n",
            "220.png\n",
            "221.png\n",
            "222.png\n",
            "224.png\n",
            "223.png\n",
            "227.png\n",
            "226.png\n",
            "225.png\n",
            "228.png\n",
            "229.png\n",
            "230.png\n",
            "231.png\n",
            "232.png\n",
            "233.png\n",
            "234.png\n",
            "235.png\n",
            "236.png\n",
            "237.png\n",
            "238.png\n",
            "239.png\n",
            "240.png\n",
            "241.png\n",
            "242.png\n",
            "243.png\n",
            "244.png\n",
            "246.png\n",
            "245.png\n",
            "247.png\n",
            "248.png\n",
            "249.png\n",
            "250.png\n",
            "251.png\n",
            "253.png\n",
            "252.png\n",
            "254.png\n",
            "255.png\n",
            "257.png\n",
            "256.png\n",
            "258.png\n",
            "259.png\n",
            "260.png\n",
            "261.png\n",
            "263.png\n",
            "262.png\n",
            "264.png\n",
            "265.png\n",
            "266.png\n",
            "267.png\n"
          ]
        },
        {
          "output_type": "display_data",
          "data": {
            "text/plain": [
              "<Figure size 432x288 with 1 Axes>"
            ],
            "image/png": "[encoded data removed]"
          },
          "metadata": {
            "needs_background": "light"
          }
        },
        {
          "output_type": "stream",
          "name": "stdout",
          "text": [
            "0       8\n",
            "1       0\n",
            "2       8\n",
            "3       0\n",
            "4       8\n",
            "       ..\n",
            "263    42\n",
            "264    42\n",
            "265    42\n",
            "266    42\n",
            "267    42\n",
            "Name: subcl, Length: 268, dtype: int64\n"
          ]
        }
      ]
    },
    {
      "cell_type": "code",
      "source": [
        "import numpy as np\n",
        "\n"
      ],
      "metadata": {
        "id": "54Fk5sSUGEnv"
      },
      "execution_count": 12,
      "outputs": []
    },
    {
      "cell_type": "code",
      "source": [
        "from sklearn.model_selection import train_test_split\n",
        "X = imagelist.copy()\n",
        "y = labels.copy()\n",
        "X = np.asarray(X)\n",
        "y = np.asarray(y)\n",
        "X_train, X_test, y_train, y_test = train_test_split(X, y, test_size=0.2, random_state=42)"
      ],
      "metadata": {
        "id": "oivKJPmdGLXq"
      },
      "execution_count": 13,
      "outputs": []
    },
    {
      "cell_type": "code",
      "source": [
        "len(X_train)"
      ],
      "metadata": {
        "colab": {
          "base_uri": "https://localhost:8080/"
        },
        "id": "404xzK8-LE5P",
        "outputId": "f5166d16-37ce-4640-a6b9-bfdc6ae1523d"
      },
      "execution_count": 14,
      "outputs": [
        {
          "output_type": "execute_result",
          "data": {
            "text/plain": [
              "214"
            ]
          },
          "metadata": {},
          "execution_count": 14
        }
      ]
    },
    {
      "cell_type": "code",
      "source": [
        "import tensorflow as tf\n",
        "from tensorflow.keras import datasets, layers, models\n",
        "\n",
        "model = models.Sequential()\n",
        "model.add(layers.Conv2D(128, (3, 3), activation='relu', input_shape=(128,128, 3)))\n",
        "model.add(layers.MaxPooling2D((2, 2)))\n",
        "model.add(layers.Conv2D(64, (3, 3), activation='relu'))\n",
        "model.add(layers.MaxPooling2D((2, 2)))\n",
        "model.add(layers.Conv2D(64, (3, 3), activation='relu'))\n",
        "model.summary()\n"
      ],
      "metadata": {
        "colab": {
          "base_uri": "https://localhost:8080/"
        },
        "id": "9yXRd_cxE9iG",
        "outputId": "553344d0-c6fe-4e49-fd4f-c70c414cf48d"
      },
      "execution_count": 19,
      "outputs": [
        {
          "output_type": "stream",
          "name": "stdout",
          "text": [
            "Model: \"sequential_1\"\n",
            "_________________________________________________________________\n",
            " Layer (type)                Output Shape              Param #   \n",
            "=================================================================\n",
            " conv2d_3 (Conv2D)           (None, 126, 126, 128)     3584      \n",
            "                                                                 \n",
            " max_pooling2d_2 (MaxPooling  (None, 63, 63, 128)      0         \n",
            " 2D)                                                             \n",
            "                                                                 \n",
            " conv2d_4 (Conv2D)           (None, 61, 61, 64)        73792     \n",
            "                                                                 \n",
            " max_pooling2d_3 (MaxPooling  (None, 30, 30, 64)       0         \n",
            " 2D)                                                             \n",
            "                                                                 \n",
            " conv2d_5 (Conv2D)           (None, 28, 28, 64)        36928     \n",
            "                                                                 \n",
            "=================================================================\n",
            "Total params: 114,304\n",
            "Trainable params: 114,304\n",
            "Non-trainable params: 0\n",
            "_________________________________________________________________\n",
            "(None, 126, 126, 128)\n",
            "(None, 63, 63, 128)\n",
            "(None, 61, 61, 64)\n",
            "(None, 30, 30, 64)\n",
            "(None, 28, 28, 64)\n"
          ]
        }
      ]
    },
    {
      "cell_type": "code",
      "source": [
        "model.add(layers.Flatten())\n",
        "model.add(layers.Dense(64, activation='relu'))\n",
        "model.add(layers.Dense(43))\n",
        "for layer in model.layers:\n",
        "    print(layer.output_shape)"
      ],
      "metadata": {
        "colab": {
          "base_uri": "https://localhost:8080/"
        },
        "id": "mFc1yGGlFv7K",
        "outputId": "5ba047f6-3ef2-4eb1-b0b3-687933f8b17a"
      },
      "execution_count": 26,
      "outputs": [
        {
          "output_type": "stream",
          "name": "stdout",
          "text": [
            "(None, 126, 126, 128)\n",
            "(None, 63, 63, 128)\n",
            "(None, 61, 61, 64)\n",
            "(None, 30, 30, 64)\n",
            "(None, 28, 28, 64)\n",
            "(None, 50176)\n",
            "(None, 64)\n",
            "(None, 10)\n",
            "(None, 10)\n",
            "(None, 64)\n",
            "(None, 7)\n",
            "(None, 7)\n",
            "(None, 64)\n",
            "(None, 42)\n",
            "(None, 42)\n",
            "(None, 64)\n",
            "(None, 43)\n"
          ]
        }
      ]
    },
    {
      "cell_type": "code",
      "source": [
        "model.summary()"
      ],
      "metadata": {
        "colab": {
          "base_uri": "https://localhost:8080/"
        },
        "id": "UBJvecXKFzge",
        "outputId": "6997d835-bd64-491b-c235-fb811ac71abb"
      },
      "execution_count": 17,
      "outputs": [
        {
          "output_type": "stream",
          "name": "stdout",
          "text": [
            "Model: \"sequential\"\n",
            "_________________________________________________________________\n",
            " Layer (type)                Output Shape              Param #   \n",
            "=================================================================\n",
            " conv2d (Conv2D)             (None, 126, 126, 128)     3584      \n",
            "                                                                 \n",
            " max_pooling2d (MaxPooling2D  (None, 63, 63, 128)      0         \n",
            " )                                                               \n",
            "                                                                 \n",
            " conv2d_1 (Conv2D)           (None, 61, 61, 64)        73792     \n",
            "                                                                 \n",
            " max_pooling2d_1 (MaxPooling  (None, 30, 30, 64)       0         \n",
            " 2D)                                                             \n",
            "                                                                 \n",
            " conv2d_2 (Conv2D)           (None, 28, 28, 64)        36928     \n",
            "                                                                 \n",
            " flatten (Flatten)           (None, 50176)             0         \n",
            "                                                                 \n",
            " dense (Dense)               (None, 64)                3211328   \n",
            "                                                                 \n",
            " dense_1 (Dense)             (None, 10)                650       \n",
            "                                                                 \n",
            "=================================================================\n",
            "Total params: 3,326,282\n",
            "Trainable params: 3,326,282\n",
            "Non-trainable params: 0\n",
            "_________________________________________________________________\n"
          ]
        }
      ]
    },
    {
      "cell_type": "code",
      "source": [
        "model.compile(optimizer='adam',\n",
        "              loss=tf.keras.losses.SparseCategoricalCrossentropy(from_logits=True),\n",
        "              metrics=['accuracy'])\n",
        "\n",
        "history = model.fit(X_train, y_train, epochs=10, validation_data=(X_test, y_test))\n"
      ],
      "metadata": {
        "colab": {
          "base_uri": "https://localhost:8080/"
        },
        "id": "Pe9nuwv2F8SC",
        "outputId": "c23f511d-3e57-4e49-d101-ea90be21bf86"
      },
      "execution_count": 27,
      "outputs": [
        {
          "output_type": "stream",
          "name": "stdout",
          "text": [
            "Epoch 1/10\n",
            "7/7 [==============================] - 17s 2s/step - loss: 1.9660 - accuracy: 0.8318 - val_loss: 0.6657 - val_accuracy: 0.8333\n",
            "Epoch 2/10\n",
            "7/7 [==============================] - 15s 2s/step - loss: 0.7092 - accuracy: 0.8832 - val_loss: 0.5770 - val_accuracy: 0.8333\n",
            "Epoch 3/10\n",
            "7/7 [==============================] - 15s 2s/step - loss: 0.5308 - accuracy: 0.8832 - val_loss: 0.4737 - val_accuracy: 0.8333\n",
            "Epoch 4/10\n",
            "7/7 [==============================] - 15s 2s/step - loss: 0.4994 - accuracy: 0.8832 - val_loss: 0.5035 - val_accuracy: 0.8333\n",
            "Epoch 5/10\n",
            "7/7 [==============================] - 15s 2s/step - loss: 0.4974 - accuracy: 0.8832 - val_loss: 0.5707 - val_accuracy: 0.8333\n",
            "Epoch 6/10\n",
            "7/7 [==============================] - 15s 2s/step - loss: 0.4850 - accuracy: 0.8832 - val_loss: 0.5022 - val_accuracy: 0.8333\n",
            "Epoch 7/10\n",
            "7/7 [==============================] - 16s 2s/step - loss: 0.4259 - accuracy: 0.8832 - val_loss: 0.5087 - val_accuracy: 0.8333\n",
            "Epoch 8/10\n",
            "7/7 [==============================] - 15s 2s/step - loss: 0.4221 - accuracy: 0.8832 - val_loss: 0.5049 - val_accuracy: 0.8333\n",
            "Epoch 9/10\n",
            "7/7 [==============================] - 15s 2s/step - loss: 0.4234 - accuracy: 0.8832 - val_loss: 0.5249 - val_accuracy: 0.8333\n",
            "Epoch 10/10\n",
            "7/7 [==============================] - 15s 2s/step - loss: 0.4272 - accuracy: 0.8832 - val_loss: 0.4938 - val_accuracy: 0.8333\n"
          ]
        }
      ]
    },
    {
      "cell_type": "code",
      "source": [
        "print((y_train[0]))"
      ],
      "metadata": {
        "colab": {
          "base_uri": "https://localhost:8080/"
        },
        "id": "umiAlATpMFIT",
        "outputId": "7a0a9f04-0579-45dd-9504-30115686c44e"
      },
      "execution_count": 48,
      "outputs": [
        {
          "output_type": "stream",
          "name": "stdout",
          "text": [
            "8\n"
          ]
        }
      ]
    },
    {
      "cell_type": "code",
      "source": [
        "plt.plot(history.history['accuracy'], label='accuracy')\n",
        "plt.plot(history.history['val_accuracy'], label = 'val_accuracy')\n",
        "plt.xlabel('Epoch')\n",
        "plt.ylabel('Accuracy')\n",
        "plt.ylim([0.5, 1])\n",
        "plt.legend(loc='lower right')\n",
        "\n",
        "test_loss, test_acc = model.evaluate(X_test,  y_test, verbose=2)\n",
        "\n",
        "print(test_acc)"
      ],
      "metadata": {
        "colab": {
          "base_uri": "https://localhost:8080/",
          "height": 318
        },
        "id": "sNeka_JIGMGo",
        "outputId": "b133be2a-6b22-4539-f3e7-53b7abe3a7c7"
      },
      "execution_count": 29,
      "outputs": [
        {
          "output_type": "stream",
          "name": "stdout",
          "text": [
            "2/2 - 2s - loss: 0.4938 - accuracy: 0.8333 - 2s/epoch - 850ms/step\n",
            "0.8333333134651184\n"
          ]
        },
        {
          "output_type": "display_data",
          "data": {
            "text/plain": [
              "<Figure size 432x288 with 1 Axes>"
            ],
            "image/png": "[encoded data removed]"
          },
          "metadata": {
            "needs_background": "light"
          }
        }
      ]
    }
  ]
}
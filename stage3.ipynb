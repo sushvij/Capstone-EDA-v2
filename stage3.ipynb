{
  "nbformat": 4,
  "nbformat_minor": 0,
  "metadata": {
    "colab": {
      "provenance": [],
      "collapsed_sections": []
    },
    "kernelspec": {
      "name": "python3",
      "display_name": "Python 3"
    },
    "language_info": {
      "name": "python"
    }
  },
  "cells": [
    {
      "cell_type": "markdown",
      "source": [
        "This notebook is our Stage 3 classification model that accomplishes subtyping of mitotic figures."
      ],
      "metadata": {
        "id": "E62lJq4eO1C8"
      }
    },
    {
      "cell_type": "code",
      "source": [
        "#pip installations can be run on this cell"
      ],
      "metadata": {
        "id": "avktikQeOkeP"
      },
      "execution_count": null,
      "outputs": []
    },
    {
      "cell_type": "code",
      "execution_count": 2,
      "metadata": {
        "id": "lt9S340UOTSL"
      },
      "outputs": [],
      "source": [
        "# If running on Colab, create a new cell to pip instal these dependencies\n",
        "\n",
        "import numpy as np\n",
        "import matplotlib as plt\n",
        "import time\n",
        "import os\n",
        "import copy\n",
        "\n",
        "import torch\n",
        "import torch.nn as nn\n",
        "import torch.optim as optim\n",
        "import torchvision\n",
        "from torchvision import datasets, models, transforms"
      ]
    },
    {
      "cell_type": "code",
      "source": [
        "#Bash commands to change directories can be run on this cell"
      ],
      "metadata": {
        "id": "EDeEZPgmOnTd"
      },
      "execution_count": null,
      "outputs": []
    },
    {
      "cell_type": "code",
      "source": [
        "classifier = models.resnet18(pretrained=True)\n",
        "loss = nn.CrossEntropy\n",
        "optimizer = optim.SGD(classifier.parameters(), lr = 0.0001, momentum = 0.9) #Learning rate can be fine-tuned"
      ],
      "metadata": {
        "id": "KeRzFo3tOpcU"
      },
      "execution_count": null,
      "outputs": []
    },
    {
      "cell_type": "code",
      "source": [
        "def train_model(classifier, loss, optimizer, num_epochs=25) #Number of epochs can be fine-tuned\n",
        "\n",
        "#This function can be filled out further, but we absolutely require clarity on the format of the images that it will be fed.  Can .svs be handled\n",
        "#somehow by PyTorch alone?\n",
        "\n",
        "#Please see PyTorch documentation for this: https://pytorch.org/tutorials/beginner/transfer_learning_tutorial.html"
      ],
      "metadata": {
        "id": "n0jSOQnoO8kT"
      },
      "execution_count": null,
      "outputs": []
    }
  ]
}
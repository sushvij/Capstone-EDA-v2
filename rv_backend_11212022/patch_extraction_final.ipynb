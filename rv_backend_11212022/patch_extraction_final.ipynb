{
  "cells": [
    {
      "cell_type": "code",
      "execution_count": 33,
      "metadata": {
        "colab": {
          "base_uri": "https://localhost:8080/"
        },
        "id": "lQsgTnkxEw_K",
        "outputId": "d75701fa-f776-462c-e4d2-a0610d1f7d18"
      },
      "outputs": [
        {
          "output_type": "stream",
          "name": "stdout",
          "text": [
            "Drive already mounted at /content/drive; to attempt to forcibly remount, call drive.mount(\"/content/drive\", force_remount=True).\n"
          ]
        }
      ],
      "source": [
        "from google.colab import drive\n",
        "drive.mount('/content/drive')"
      ]
    },
    {
      "cell_type": "code",
      "execution_count": 34,
      "metadata": {
        "colab": {
          "base_uri": "https://localhost:8080/"
        },
        "id": "XgceMjYINOcd",
        "outputId": "461dba1b-170f-45e8-d0f7-942d168eb1e9"
      },
      "outputs": [
        {
          "output_type": "stream",
          "name": "stdout",
          "text": [
            "[Errno 2] No such file or directory: 'drive/MyDrive'\n",
            "/content/drive/MyDrive\n"
          ]
        }
      ],
      "source": [
        "%cd drive/MyDrive"
      ]
    },
    {
      "cell_type": "code",
      "source": [
        "!ls"
      ],
      "metadata": {
        "colab": {
          "base_uri": "https://localhost:8080/"
        },
        "id": "-yJyJTJrtL63",
        "outputId": "611443b4-c307-4e29-8142-373077b2c85e"
      },
      "execution_count": 35,
      "outputs": [
        {
          "output_type": "stream",
          "name": "stdout",
          "text": [
            " 20221029-053129_annot_df_sorted_subclassed_slide_no_2.csv\n",
            " 20221030-011825_annot_df_sorted_subclassed_MLFs_32_slide_no_2.csv\n",
            "'Colab Notebooks'\n",
            " Data_CMC-f\n",
            " dog_dataset\n",
            " fsl_subclassing\n",
            "'Getting started.pdf'\n",
            " hymenoptera_data\n",
            " LectureNotes01.pdf\n",
            " LectureNotes02.pdf\n",
            " LectureNotes03.pdf\n",
            " LectureNotes04.pdf\n",
            " LectureNotes05.pdf\n",
            " LectureNotes06.pdf\n",
            " LectureNotes07.pdf\n",
            " LectureNotes08.pdf\n",
            " LectureNotes09.pdf\n",
            " MITOS_WSI_CMC\n",
            " slide_3\n",
            " slide_5\n",
            " week-10-nlp\n"
          ]
        }
      ]
    },
    {
      "cell_type": "code",
      "execution_count": 36,
      "metadata": {
        "id": "McoiV2A1dgFm"
      },
      "outputs": [],
      "source": [
        "import pandas as pd\n",
        "data1 = pd.read_csv('fsl_subclassing/slide_2_updated/20221116-115200_ann_df_re-subcl_slide_no_2_all_64_MFs.csv')\n",
        "data2 = pd.read_csv('fsl_subclassing/slide_2/20221030-011825_annot_df_sorted_subclassed_MLFs_32_slide_no_2.csv')\n",
        "data3 =  pd.read_csv('fsl_subclassing/slide_3/20221112-015900_annot_df_sorted_subclassed_MLFs_72_slide_no_3.csv')\n",
        "data4 =  pd.read_csv('fsl_subclassing/slide_3/20221112-003547_annot_df_sorted_subclassed_slide_no_3_all_MFs.csv')\n",
        "data5 = pd.read_csv('fsl_subclassing/slide_5/20221112-230321_annot_df_sorted_subclassed_MLFs_100_slide_no_5.csv')\n",
        "data6 = pd.read_csv('fsl_subclassing/slide_5/221211-35722_ann_df_subcl_CORRECTED_sl_5_all_130_MFs.csv')\n",
        "data7 = pd.read_csv('fsl_subclassing/slide_7/20221115-150013_annot_df_sorted_subclassed_MLFs_160_slide_no_7.csv')\n",
        "data8 = pd.read_csv('fsl_subclassing/slide_7/20221115-150013_ann_df_subcl_slide_no_7_all_157_MFs.csv')\n",
        "data9 = pd.read_csv('fsl_subclassing/slide_8/20221116-092800_ann_df_subcl_slide_no_8_all_187_MFs.csv')\n",
        "data10 = pd.read_csv('fsl_subclassing/slide_8/20221116-092800_annot_df_sorted_subclassed_MLFs_100_slide_no_8.csv')\n",
        "data_slide2 = pd.concat([data1, data2])\n",
        "data_slide3 = pd.concat([data3, data4])\n",
        "data_slide5 = pd.concat([data5, data6])\n",
        "data_slide7 = pd.concat([data7, data8])\n",
        "data_slide8 = pd.concat([data9, data10])"
      ]
    },
    {
      "cell_type": "code",
      "execution_count": 37,
      "metadata": {
        "id": "nlWyRPftYeWV"
      },
      "outputs": [],
      "source": [
        "data_slide2['subcl'] = data_slide2['subcl'].replace(42,9)\n",
        "data_filtered_slide2 = data_slide2[data_slide2['subcl'] != 9]\n",
        "\n"
      ]
    },
    {
      "cell_type": "code",
      "source": [
        "data_slide3['subcl'] = data_slide3['subcl'].replace(42,9)\n",
        "data_filtered_slide3 = data_slide3[data_slide3['subcl'] != 9]"
      ],
      "metadata": {
        "id": "kG9pbdWNt1qM"
      },
      "execution_count": 38,
      "outputs": []
    },
    {
      "cell_type": "code",
      "source": [
        "data_slide5['subcl'] = data_slide5['subcl'].replace(42,9)\n",
        "data_filtered_slide5 = data_slide5[data_slide5['subcl'] != 9]"
      ],
      "metadata": {
        "id": "spBmvm6Ft2WR"
      },
      "execution_count": 39,
      "outputs": []
    },
    {
      "cell_type": "code",
      "source": [
        "data_slide7['subcl'] = data_slide7['subcl'].replace(42,9)\n",
        "data_filtered_slide7 = data_slide7[data_slide7['subcl'] != 9]"
      ],
      "metadata": {
        "id": "FCKvP14XBmHH"
      },
      "execution_count": 40,
      "outputs": []
    },
    {
      "cell_type": "code",
      "source": [
        "data_slide8['subcl'] = data_slide8['subcl'].replace(42,9)\n",
        "data_filtered_slide8 = data_slide8[data_slide8['subcl'] != 9]"
      ],
      "metadata": {
        "id": "qN7l07PSBm2Q"
      },
      "execution_count": 41,
      "outputs": []
    },
    {
      "cell_type": "code",
      "source": [
        "data_slide2 = data_filtered_slide2.copy()\n",
        "data_slide2 = data_slide2[data_slide2['subcl'] != 0]"
      ],
      "metadata": {
        "id": "Hx5aVpHSC0GS"
      },
      "execution_count": 42,
      "outputs": []
    },
    {
      "cell_type": "code",
      "source": [
        "data_slide3 = data_filtered_slide3.copy()\n",
        "data_slide3 = data_slide3[data_slide3['subcl'] != 0]"
      ],
      "metadata": {
        "id": "59fefDmouU0V"
      },
      "execution_count": 43,
      "outputs": []
    },
    {
      "cell_type": "code",
      "source": [
        "data_slide5 = data_filtered_slide5.copy()\n",
        "data_slide5 = data_slide5[data_slide5['subcl'] != 0]"
      ],
      "metadata": {
        "id": "_EtbZKR5uVU0"
      },
      "execution_count": 44,
      "outputs": []
    },
    {
      "cell_type": "code",
      "source": [
        "data_slide7 = data_filtered_slide7.copy()\n",
        "data_slide7 = data_slide7[data_slide7['subcl'] != 0]"
      ],
      "metadata": {
        "id": "Rh1k4-5V9LmT"
      },
      "execution_count": 45,
      "outputs": []
    },
    {
      "cell_type": "code",
      "source": [
        "data_slide8 = data_filtered_slide8.copy()\n",
        "data_slide8 = data_slide8[data_slide8['subcl'] != 0]"
      ],
      "metadata": {
        "id": "bW-WFFe6CzmU"
      },
      "execution_count": 46,
      "outputs": []
    },
    {
      "cell_type": "code",
      "source": [
        "print(len(data_slide2))\n",
        "print(len(data_slide3))\n",
        "print(len(data_slide5))\n",
        "print(len(data_slide7))\n",
        "print(len(data_slide8))"
      ],
      "metadata": {
        "colab": {
          "base_uri": "https://localhost:8080/"
        },
        "id": "VgUxqDCvSk-0",
        "outputId": "4d1528a5-0e79-45b6-decf-52b04d81b5ef"
      },
      "execution_count": 74,
      "outputs": [
        {
          "output_type": "stream",
          "name": "stdout",
          "text": [
            "93\n",
            "155\n",
            "203\n",
            "303\n",
            "230\n"
          ]
        }
      ]
    },
    {
      "cell_type": "markdown",
      "metadata": {
        "id": "I5-chYn2LYYz"
      },
      "source": [
        "The center specified in the CSV is a String.  We have to convert it to a list of int."
      ]
    },
    {
      "cell_type": "code",
      "source": [
        "i = 0\n",
        "ctrlist = []\n",
        "while (i<len(data_slide2)):\n",
        "  ctr = data_slide2.iloc[i][3]\n",
        "  ctrcoord = []\n",
        "  newcoord = \"\"\n",
        "  for elt in ctr:\n",
        "    if (   (elt != '[') and (elt != ']') and (elt != ',') and (elt != ' ')   ) :\n",
        "       newcoord = newcoord + elt\n",
        "    if  (elt == \",\"):\n",
        "       ctrcoord.append(int(newcoord))\n",
        "       newcoord = \"\"\n",
        "  ctrcoord.append(int(newcoord.strip()))\n",
        "  ctrlist.append(ctrcoord)\n",
        "  i = i + 1\n",
        "data_slide2['ctr'] = ctrlist"
      ],
      "metadata": {
        "id": "Y49f4mIGuj5l"
      },
      "execution_count": 47,
      "outputs": []
    },
    {
      "cell_type": "code",
      "source": [
        "i = 0\n",
        "ctrlist = []\n",
        "while (i<len(data_slide3)):\n",
        "  ctr = data_slide3.iloc[i][3]\n",
        "  ctrcoord = []\n",
        "  newcoord = \"\"\n",
        "  for elt in ctr:\n",
        "    if (   (elt != '[') and (elt != ']') and (elt != ',') and (elt != ' ')   ) :\n",
        "       newcoord = newcoord + elt\n",
        "    if  (elt == \",\"):\n",
        "       ctrcoord.append(int(newcoord))\n",
        "       newcoord = \"\"\n",
        "  ctrcoord.append(int(newcoord.strip()))\n",
        "  ctrlist.append(ctrcoord)\n",
        "  i = i + 1\n",
        "data_slide3['ctr'] = ctrlist"
      ],
      "metadata": {
        "id": "NBSXZ_HHukH_"
      },
      "execution_count": 48,
      "outputs": []
    },
    {
      "cell_type": "code",
      "execution_count": 49,
      "metadata": {
        "id": "ivOzgrypgwxL"
      },
      "outputs": [],
      "source": [
        "i = 0\n",
        "ctrlist = []\n",
        "while (i<len(data_slide5)):\n",
        "  ctr = data_slide5.iloc[i][3]\n",
        "  ctrcoord = []\n",
        "  newcoord = \"\"\n",
        "  for elt in ctr:\n",
        "    if (   (elt != '[') and (elt != ']') and (elt != ',') and (elt != ' ')   ) :\n",
        "       newcoord = newcoord + elt\n",
        "    if  (elt == \",\"):\n",
        "       ctrcoord.append(int(newcoord))\n",
        "       newcoord = \"\"\n",
        "  ctrcoord.append(int(newcoord.strip()))\n",
        "  ctrlist.append(ctrcoord)\n",
        "  i = i + 1\n",
        "data_slide5['ctr'] = ctrlist"
      ]
    },
    {
      "cell_type": "code",
      "source": [
        "i = 0\n",
        "ctrlist = []\n",
        "while (i<len(data_slide7)):\n",
        "  ctr = data_slide7.iloc[i][3]\n",
        "  ctrcoord = []\n",
        "  newcoord = \"\"\n",
        "  for elt in ctr:\n",
        "    if (   (elt != '[') and (elt != ']') and (elt != ',') and (elt != ' ')   ) :\n",
        "       newcoord = newcoord + elt\n",
        "    if  (elt == \",\"):\n",
        "       ctrcoord.append(int(newcoord))\n",
        "       newcoord = \"\"\n",
        "  ctrcoord.append(int(newcoord.strip()))\n",
        "  ctrlist.append(ctrcoord)\n",
        "  i = i + 1\n",
        "data_slide7['ctr'] = ctrlist"
      ],
      "metadata": {
        "id": "hXJUoYq4DITK"
      },
      "execution_count": 50,
      "outputs": []
    },
    {
      "cell_type": "code",
      "source": [
        "i = 0\n",
        "ctrlist = []\n",
        "while (i<len(data_slide8)):\n",
        "  ctr = data_slide8.iloc[i][3]\n",
        "  ctrcoord = []\n",
        "  newcoord = \"\"\n",
        "  for elt in ctr:\n",
        "    if (   (elt != '[') and (elt != ']') and (elt != ',') and (elt != ' ')   ) :\n",
        "       newcoord = newcoord + elt\n",
        "    if  (elt == \",\"):\n",
        "       ctrcoord.append(int(newcoord))\n",
        "       newcoord = \"\"\n",
        "  ctrcoord.append(int(newcoord.strip()))\n",
        "  ctrlist.append(ctrcoord)\n",
        "  i = i + 1\n",
        "data_slide8['ctr'] = ctrlist"
      ],
      "metadata": {
        "id": "3YCK1QdDDKqH"
      },
      "execution_count": 51,
      "outputs": []
    },
    {
      "cell_type": "code",
      "execution_count": 52,
      "metadata": {
        "id": "xHt0mrJ_mscs"
      },
      "outputs": [],
      "source": [
        "centers_slide2 = data_slide2[['guid','ctr','subcl']]\n",
        "centers_slide3 = data_slide3[['guid','ctr','subcl']]\n",
        "centers_slide5 = data_slide5[['guid','ctr','subcl']]\n",
        "centers_slide7 = data_slide7[['guid','ctr','subcl']]\n",
        "centers_slide8 = data_slide8[['guid','ctr','subcl']]"
      ]
    },
    {
      "cell_type": "markdown",
      "metadata": {
        "id": "_rPcGCvsnGHI"
      },
      "source": [
        "Patch Selection"
      ]
    },
    {
      "cell_type": "code",
      "execution_count": 53,
      "metadata": {
        "colab": {
          "base_uri": "https://localhost:8080/"
        },
        "id": "oGxc5pvpnHu7",
        "outputId": "8ba2c3a8-92cd-4626-ae3a-327a543483c9"
      },
      "outputs": [
        {
          "output_type": "stream",
          "name": "stdout",
          "text": [
            " 20221029-053129_annot_df_sorted_subclassed_slide_no_2.csv\n",
            " 20221030-011825_annot_df_sorted_subclassed_MLFs_32_slide_no_2.csv\n",
            "'Colab Notebooks'\n",
            " Data_CMC-f\n",
            " dog_dataset\n",
            " fsl_subclassing\n",
            "'Getting started.pdf'\n",
            " hymenoptera_data\n",
            " LectureNotes01.pdf\n",
            " LectureNotes02.pdf\n",
            " LectureNotes03.pdf\n",
            " LectureNotes04.pdf\n",
            " LectureNotes05.pdf\n",
            " LectureNotes06.pdf\n",
            " LectureNotes07.pdf\n",
            " LectureNotes08.pdf\n",
            " LectureNotes09.pdf\n",
            " MITOS_WSI_CMC\n",
            " slide_3\n",
            " slide_5\n",
            " week-10-nlp\n",
            "[Errno 2] No such file or directory: 'MyDrive'\n",
            "/content/drive/MyDrive\n"
          ]
        }
      ],
      "source": [
        "!ls\n",
        "%cd MyDrive"
      ]
    },
    {
      "cell_type": "code",
      "execution_count": 54,
      "metadata": {
        "colab": {
          "base_uri": "https://localhost:8080/"
        },
        "id": "Z1TdqM-gnuHT",
        "outputId": "cfb209f3-a63f-4dfb-c3b9-3c8f124b85fb"
      },
      "outputs": [
        {
          "output_type": "stream",
          "name": "stdout",
          "text": [
            "/content/drive/My Drive/MITOS_WSI_CMC/databases\n"
          ]
        }
      ],
      "source": [
        "%cd MITOS_WSI_CMC/databases"
      ]
    },
    {
      "cell_type": "code",
      "execution_count": 55,
      "metadata": {
        "colab": {
          "base_uri": "https://localhost:8080/"
        },
        "id": "jZc54XVwjjla",
        "outputId": "20cb95f2-c879-4201-d178-9f478fccd4bd"
      },
      "outputs": [
        {
          "output_type": "stream",
          "name": "stdout",
          "text": [
            "20.png\t  3122.png  387.png   5190.png\n",
            "210.png   3123.png  388.png   5191.png\n",
            "211.png   3124.png  389.png   5192.png\n",
            "212.png   3125.png  38.png    5193.png\n",
            "213.png   3126.png  390.png   5194.png\n",
            "214.png   3127.png  391.png   5195.png\n",
            "215.png   3128.png  392.png   5196.png\n",
            "216.png   3129.png  393.png   5197.png\n",
            "217.png   312.png   394.png   5198.png\n",
            "218.png   3130.png  395.png   5199.png\n",
            "219.png   3131.png  396.png   519.png\n",
            "21.png\t  3132.png  397.png   51.png\n",
            "220.png   3133.png  398.png   5200.png\n",
            "221.png   3134.png  399.png   5201.png\n",
            "222.png   3135.png  39.png    5202.png\n",
            "223.png   3136.png  50.png    520.png\n",
            "224.png   3137.png  5100.png  521.png\n",
            "225.png   3138.png  5101.png  522.png\n",
            "226.png   3139.png  5102.png  523.png\n",
            "227.png   313.png   5103.png  524.png\n",
            "228.png   3140.png  5104.png  525.png\n",
            "229.png   3141.png  5105.png  526.png\n",
            "22.png\t  3142.png  5106.png  527.png\n",
            "230.png   3143.png  5107.png  528.png\n",
            "231.png   3144.png  5108.png  529.png\n",
            "232.png   3145.png  5109.png  52.png\n",
            "233.png   3146.png  510.png   530.png\n",
            "234.png   3147.png  5110.png  531.png\n",
            "235.png   3148.png  5111.png  532.png\n",
            "236.png   3149.png  5112.png  533.png\n",
            "237.png   314.png   5113.png  534.png\n",
            "238.png   3150.png  5114.png  535.png\n",
            "239.png   3151.png  5115.png  536.png\n",
            "23.png\t  3152.png  5116.png  537.png\n",
            "240.png   3153.png  5117.png  538.png\n",
            "241.png   3154.png  5118.png  539.png\n",
            "242.png   315.png   5119.png  53.png\n",
            "243.png   316.png   511.png   540.png\n",
            "244.png   317.png   5120.png  541.png\n",
            "245.png   318.png   5121.png  542.png\n",
            "246.png   319.png   5122.png  543.png\n",
            "247.png   31.png    5123.png  544.png\n",
            "248.png   320.png   5124.png  545.png\n",
            "249.png   321.png   5125.png  546.png\n",
            "24.png\t  322.png   5126.png  547.png\n",
            "250.png   323.png   5127.png  548.png\n",
            "251.png   324.png   5128.png  549.png\n",
            "252.png   325.png   5129.png  54.png\n",
            "253.png   326.png   512.png   550.png\n",
            "254.png   327.png   5130.png  551.png\n",
            "255.png   328.png   5131.png  552.png\n",
            "256.png   329.png   5132.png  553.png\n",
            "257.png   32.png    5133.png  554.png\n",
            "258.png   330.png   5134.png  555.png\n",
            "259.png   331.png   5135.png  556.png\n",
            "25.png\t  332.png   5136.png  557.png\n",
            "260.png   333.png   5137.png  558.png\n",
            "261.png   334.png   5138.png  559.png\n",
            "262.png   335.png   5139.png  55.png\n",
            "263.png   336.png   513.png   560.png\n",
            "264.png   337.png   5140.png  561.png\n",
            "265.png   338.png   5141.png  562.png\n",
            "266.png   339.png   5142.png  563.png\n",
            "267.png   33.png    5143.png  564.png\n",
            "268.png   340.png   5144.png  565.png\n",
            "269.png   341.png   5145.png  566.png\n",
            "26.png\t  342.png   5146.png  567.png\n",
            "270.png   343.png   5147.png  568.png\n",
            "271.png   344.png   5148.png  569.png\n",
            "272.png   345.png   5149.png  56.png\n",
            "273.png   346.png   514.png   570.png\n",
            "274.png   347.png   5150.png  571.png\n",
            "275.png   348.png   5151.png  572.png\n",
            "276.png   349.png   5152.png  573.png\n",
            "277.png   34.png    5153.png  574.png\n",
            "278.png   350.png   5154.png  575.png\n",
            "279.png   351.png   5155.png  576.png\n",
            "27.png\t  352.png   5156.png  577.png\n",
            "280.png   353.png   5157.png  578.png\n",
            "281.png   354.png   5158.png  579.png\n",
            "282.png   355.png   5159.png  57.png\n",
            "283.png   356.png   515.png   580.png\n",
            "284.png   357.png   5160.png  581.png\n",
            "285.png   358.png   5161.png  582.png\n",
            "286.png   359.png   5162.png  583.png\n",
            "287.png   35.png    5163.png  584.png\n",
            "288.png   360.png   5164.png  585.png\n",
            "289.png   361.png   5165.png  586.png\n",
            "28.png\t  362.png   5166.png  587.png\n",
            "29.png\t  363.png   5167.png  588.png\n",
            "30.png\t  364.png   5168.png  589.png\n",
            "3100.png  365.png   5169.png  58.png\n",
            "3101.png  366.png   516.png   590.png\n",
            "3102.png  367.png   5170.png  591.png\n",
            "3103.png  368.png   5171.png  592.png\n",
            "3104.png  369.png   5172.png  593.png\n",
            "3105.png  36.png    5173.png  594.png\n",
            "3106.png  370.png   5174.png  595.png\n",
            "3107.png  371.png   5175.png  596.png\n",
            "3108.png  372.png   5176.png  597.png\n",
            "3109.png  373.png   5177.png  598.png\n",
            "310.png   374.png   5178.png  599.png\n",
            "3110.png  375.png   5179.png  59.png\n",
            "3111.png  376.png   517.png   databaseStatistics.ipynb\n",
            "3112.png  377.png   5180.png  Data_CMC-f\n",
            "3113.png  378.png   5181.png  ExtractedPatchesv2\n",
            "3114.png  379.png   5182.png  MITOS_WSI_CMC_COADEL_TR.sqlite\n",
            "3115.png  37.png    5183.png  MITOS_WSI_CMC_CODAEL_TR_ROI.sqlite\n",
            "3116.png  380.png   5184.png  MITOS_WSI_CMC_MEL.sqlite\n",
            "3117.png  381.png   5185.png  MITOS_WSI_CMC_ODAEL_TR.sqlite\n",
            "3118.png  382.png   5186.png  patchExtraction_v4\n",
            "3119.png  383.png   5187.png  subclass_patches\n",
            "311.png   384.png   5188.png  TUPAC_alternativeLabels_augmented_training.sqlite\n",
            "3120.png  385.png   5189.png  TUPAC.sqlite\n",
            "3121.png  386.png   518.png   TUPAC_stitched.sqlite\n"
          ]
        }
      ],
      "source": [
        "!ls"
      ]
    },
    {
      "cell_type": "code",
      "execution_count": 56,
      "metadata": {
        "id": "EiXCZCXzoC89"
      },
      "outputs": [],
      "source": [
        "#Now, we extract patches into .png files.  "
      ]
    },
    {
      "cell_type": "code",
      "execution_count": 57,
      "metadata": {
        "colab": {
          "base_uri": "https://localhost:8080/"
        },
        "id": "UVkQiQqeqRA0",
        "outputId": "bff33454-c288-479d-fd60-64b6d9499abd"
      },
      "outputs": [
        {
          "output_type": "stream",
          "name": "stdout",
          "text": [
            "Looking in indexes: https://pypi.org/simple, https://us-python.pkg.dev/colab-wheels/public/simple/\n",
            "Collecting SlideRunner\n",
            "  Downloading SlideRunner-2.0-py3-none-any.whl (511 kB)\n",
            "\u001b[K     |████████████████████████████████| 511 kB 5.1 MB/s \n",
            "\u001b[?25hRequirement already satisfied: opencv-python>=3.1.0 in /usr/local/lib/python3.7/dist-packages (from SlideRunner) (4.6.0.66)\n",
            "Collecting pyqt5>=5.5.0\n",
            "  Downloading PyQt5-5.15.7-cp37-abi3-manylinux1_x86_64.whl (8.4 MB)\n",
            "\u001b[K     |████████████████████████████████| 8.4 MB 38.7 MB/s \n",
            "\u001b[?25hRequirement already satisfied: matplotlib>=2.0.0 in /usr/local/lib/python3.7/dist-packages (from SlideRunner) (3.2.2)\n",
            "Requirement already satisfied: numpy>=1.13 in /usr/local/lib/python3.7/dist-packages (from SlideRunner) (1.21.6)\n",
            "Requirement already satisfied: shapely>=1.6.4 in /usr/local/lib/python3.7/dist-packages (from SlideRunner) (1.8.5.post1)\n",
            "Collecting openslide-python>=1.1.1\n",
            "  Downloading openslide-python-1.2.0.tar.gz (338 kB)\n",
            "\u001b[K     |████████████████████████████████| 338 kB 42.5 MB/s \n",
            "\u001b[?25hCollecting rollbar>=0.14\n",
            "  Downloading rollbar-0.16.3-py3-none-any.whl (98 kB)\n",
            "\u001b[K     |████████████████████████████████| 98 kB 6.0 MB/s \n",
            "\u001b[?25hCollecting pydicom>=1.4.1\n",
            "  Downloading pydicom-2.3.1-py3-none-any.whl (2.0 MB)\n",
            "\u001b[K     |████████████████████████████████| 2.0 MB 38.0 MB/s \n",
            "\u001b[?25hRequirement already satisfied: pyparsing!=2.0.4,!=2.1.2,!=2.1.6,>=2.0.1 in /usr/local/lib/python3.7/dist-packages (from matplotlib>=2.0.0->SlideRunner) (3.0.9)\n",
            "Requirement already satisfied: python-dateutil>=2.1 in /usr/local/lib/python3.7/dist-packages (from matplotlib>=2.0.0->SlideRunner) (2.8.2)\n",
            "Requirement already satisfied: cycler>=0.10 in /usr/local/lib/python3.7/dist-packages (from matplotlib>=2.0.0->SlideRunner) (0.11.0)\n",
            "Requirement already satisfied: kiwisolver>=1.0.1 in /usr/local/lib/python3.7/dist-packages (from matplotlib>=2.0.0->SlideRunner) (1.4.4)\n",
            "Requirement already satisfied: typing-extensions in /usr/local/lib/python3.7/dist-packages (from kiwisolver>=1.0.1->matplotlib>=2.0.0->SlideRunner) (4.1.1)\n",
            "Requirement already satisfied: Pillow in /usr/local/lib/python3.7/dist-packages (from openslide-python>=1.1.1->SlideRunner) (7.1.2)\n",
            "Requirement already satisfied: six>=1.5 in /usr/local/lib/python3.7/dist-packages (from python-dateutil>=2.1->matplotlib>=2.0.0->SlideRunner) (1.15.0)\n",
            "Requirement already satisfied: requests>=0.12.1 in /usr/local/lib/python3.7/dist-packages (from rollbar>=0.14->SlideRunner) (2.23.0)\n",
            "Requirement already satisfied: chardet<4,>=3.0.2 in /usr/local/lib/python3.7/dist-packages (from requests>=0.12.1->rollbar>=0.14->SlideRunner) (3.0.4)\n",
            "Requirement already satisfied: urllib3!=1.25.0,!=1.25.1,<1.26,>=1.21.1 in /usr/local/lib/python3.7/dist-packages (from requests>=0.12.1->rollbar>=0.14->SlideRunner) (1.24.3)\n",
            "Requirement already satisfied: certifi>=2017.4.17 in /usr/local/lib/python3.7/dist-packages (from requests>=0.12.1->rollbar>=0.14->SlideRunner) (2022.9.24)\n",
            "Requirement already satisfied: idna<3,>=2.5 in /usr/local/lib/python3.7/dist-packages (from requests>=0.12.1->rollbar>=0.14->SlideRunner) (2.10)\n",
            "Collecting PyQt5-sip<13,>=12.11\n",
            "  Downloading PyQt5_sip-12.11.0-cp37-cp37m-manylinux1_x86_64.whl (344 kB)\n",
            "\u001b[K     |████████████████████████████████| 344 kB 41.8 MB/s \n",
            "\u001b[?25hCollecting PyQt5-Qt5>=5.15.0\n",
            "  Downloading PyQt5_Qt5-5.15.2-py3-none-manylinux2014_x86_64.whl (59.9 MB)\n",
            "\u001b[K     |████████████████████████████████| 59.9 MB 2.1 MB/s \n",
            "\u001b[?25hBuilding wheels for collected packages: openslide-python\n",
            "  Building wheel for openslide-python (setup.py) ... \u001b[?25l\u001b[?25hdone\n",
            "  Created wheel for openslide-python: filename=openslide_python-1.2.0-cp37-cp37m-linux_x86_64.whl size=28678 sha256=cc7feeb52a929af9d261942a5f4b0405b8bc610fa519f9182e8b04dd02ce4e16\n",
            "  Stored in directory: /root/.cache/pip/wheels/30/27/eb/3b8973113a41fbb41744f61af6b13debde257bfe325991f9a1\n",
            "Successfully built openslide-python\n",
            "Installing collected packages: PyQt5-sip, PyQt5-Qt5, rollbar, pyqt5, pydicom, openslide-python, SlideRunner\n",
            "Successfully installed PyQt5-Qt5-5.15.2 PyQt5-sip-12.11.0 SlideRunner-2.0 openslide-python-1.2.0 pydicom-2.3.1 pyqt5-5.15.7 rollbar-0.16.3\n",
            "Reading package lists... Done\n",
            "Building dependency tree       \n",
            "Reading state information... Done\n",
            "The following package was automatically installed and is no longer required:\n",
            "  libnvidia-common-460\n",
            "Use 'sudo apt autoremove' to remove it.\n",
            "The following additional packages will be installed:\n",
            "  libopenslide0\n",
            "Suggested packages:\n",
            "  libtiff-tools\n",
            "The following NEW packages will be installed:\n",
            "  libopenslide0 openslide-tools\n",
            "0 upgraded, 2 newly installed, 0 to remove and 5 not upgraded.\n",
            "Need to get 92.5 kB of archives.\n",
            "After this operation, 268 kB of additional disk space will be used.\n",
            "Get:1 http://archive.ubuntu.com/ubuntu bionic/universe amd64 libopenslide0 amd64 3.4.1+dfsg-2 [79.8 kB]\n",
            "Get:2 http://archive.ubuntu.com/ubuntu bionic/universe amd64 openslide-tools amd64 3.4.1+dfsg-2 [12.7 kB]\n",
            "Fetched 92.5 kB in 0s (267 kB/s)\n",
            "debconf: unable to initialize frontend: Dialog\n",
            "debconf: (No usable dialog-like program is installed, so the dialog based frontend cannot be used. at /usr/share/perl5/Debconf/FrontEnd/Dialog.pm line 76, <> line 2.)\n",
            "debconf: falling back to frontend: Readline\n",
            "debconf: unable to initialize frontend: Readline\n",
            "debconf: (This frontend requires a controlling tty.)\n",
            "debconf: falling back to frontend: Teletype\n",
            "dpkg-preconfigure: unable to re-open stdin: \n",
            "Selecting previously unselected package libopenslide0.\n",
            "(Reading database ... 123991 files and directories currently installed.)\n",
            "Preparing to unpack .../libopenslide0_3.4.1+dfsg-2_amd64.deb ...\n",
            "Unpacking libopenslide0 (3.4.1+dfsg-2) ...\n",
            "Selecting previously unselected package openslide-tools.\n",
            "Preparing to unpack .../openslide-tools_3.4.1+dfsg-2_amd64.deb ...\n",
            "Unpacking openslide-tools (3.4.1+dfsg-2) ...\n",
            "Setting up libopenslide0 (3.4.1+dfsg-2) ...\n",
            "Setting up openslide-tools (3.4.1+dfsg-2) ...\n",
            "Processing triggers for libc-bin (2.27-3ubuntu1.6) ...\n",
            "Processing triggers for man-db (2.8.3-2ubuntu0.1) ...\n",
            "Reading package lists... Done\n",
            "Building dependency tree       \n",
            "Reading state information... Done\n",
            "The following package was automatically installed and is no longer required:\n",
            "  libnvidia-common-460\n",
            "Use 'sudo apt autoremove' to remove it.\n",
            "The following additional packages will be installed:\n",
            "  javascript-common libjs-jquery python-asn1crypto python-blinker\n",
            "  python-cffi-backend python-click python-colorama python-cryptography\n",
            "  python-enum34 python-flask python-idna python-ipaddress python-itsdangerous\n",
            "  python-jinja2 python-markupsafe python-openslide-examples python-openssl\n",
            "  python-pkg-resources python-pyinotify python-simplejson python-six\n",
            "  python-werkzeug python3-olefile python3-pil\n",
            "Suggested packages:\n",
            "  apache2 | lighttpd | httpd python-blinker-doc python-cryptography-doc\n",
            "  python-cryptography-vectors python-enum34-doc python-flask-doc\n",
            "  python-jinja2-doc python-openssl-doc python-openssl-dbg python-setuptools\n",
            "  python-pyinotify-doc ipython python-genshi python-lxml python-greenlet\n",
            "  python-redis python-pylibmc | python-memcache python-termcolor\n",
            "  python-watchdog python-werkzeug-doc python-pil-doc python3-pil-dbg\n",
            "The following NEW packages will be installed:\n",
            "  javascript-common libjs-jquery python-asn1crypto python-blinker\n",
            "  python-cffi-backend python-click python-colorama python-cryptography\n",
            "  python-enum34 python-flask python-idna python-ipaddress python-itsdangerous\n",
            "  python-jinja2 python-markupsafe python-openslide-examples python-openssl\n",
            "  python-pkg-resources python-pyinotify python-simplejson python-six\n",
            "  python-werkzeug python3-olefile python3-openslide python3-pil\n",
            "0 upgraded, 25 newly installed, 0 to remove and 5 not upgraded.\n",
            "Need to get 1,918 kB of archives.\n",
            "After this operation, 9,529 kB of additional disk space will be used.\n",
            "Get:1 http://archive.ubuntu.com/ubuntu bionic/main amd64 javascript-common all 11 [6,066 B]\n",
            "Get:2 http://archive.ubuntu.com/ubuntu bionic/main amd64 libjs-jquery all 3.2.1-1 [152 kB]\n",
            "Get:3 http://archive.ubuntu.com/ubuntu bionic/main amd64 python-asn1crypto all 0.24.0-1 [72.7 kB]\n",
            "Get:4 http://archive.ubuntu.com/ubuntu bionic/main amd64 python-blinker all 1.4+dfsg1-0.1 [13.0 kB]\n",
            "Get:5 http://archive.ubuntu.com/ubuntu bionic/main amd64 python-cffi-backend amd64 1.11.5-1 [63.4 kB]\n",
            "Get:6 http://archive.ubuntu.com/ubuntu bionic/main amd64 python-colorama all 0.3.7-1 [22.6 kB]\n",
            "Get:7 http://archive.ubuntu.com/ubuntu bionic/main amd64 python-click all 6.7-3 [56.4 kB]\n",
            "Get:8 http://archive.ubuntu.com/ubuntu bionic/main amd64 python-enum34 all 1.1.6-2 [34.8 kB]\n",
            "Get:9 http://archive.ubuntu.com/ubuntu bionic/main amd64 python-idna all 2.6-1 [32.4 kB]\n",
            "Get:10 http://archive.ubuntu.com/ubuntu bionic/main amd64 python-ipaddress all 1.0.17-1 [18.2 kB]\n",
            "Get:11 http://archive.ubuntu.com/ubuntu bionic/main amd64 python-six all 1.11.0-2 [11.3 kB]\n",
            "Get:12 http://archive.ubuntu.com/ubuntu bionic-updates/main amd64 python-cryptography amd64 2.1.4-1ubuntu1.4 [276 kB]\n",
            "Get:13 http://archive.ubuntu.com/ubuntu bionic/main amd64 python-itsdangerous all 0.24+dfsg1-2 [11.9 kB]\n",
            "Get:14 http://archive.ubuntu.com/ubuntu bionic/main amd64 python-markupsafe amd64 1.0-1build1 [13.0 kB]\n",
            "Get:15 http://archive.ubuntu.com/ubuntu bionic-updates/main amd64 python-jinja2 all 2.10-1ubuntu0.18.04.1 [94.8 kB]\n",
            "Get:16 http://archive.ubuntu.com/ubuntu bionic-updates/main amd64 python-werkzeug all 0.14.1+dfsg1-1ubuntu0.1 [174 kB]\n",
            "Get:17 http://archive.ubuntu.com/ubuntu bionic-updates/main amd64 python-flask all 0.12.2-3ubuntu0.1 [62.4 kB]\n",
            "Get:18 http://archive.ubuntu.com/ubuntu bionic-updates/main amd64 python3-pil amd64 5.1.0-1ubuntu0.8 [331 kB]\n",
            "Get:19 http://archive.ubuntu.com/ubuntu bionic/universe amd64 python3-openslide amd64 1.1.1-2ubuntu4 [16.1 kB]\n",
            "Get:20 http://archive.ubuntu.com/ubuntu bionic/universe amd64 python-openslide-examples all 1.1.1-2ubuntu4 [168 kB]\n",
            "Get:21 http://archive.ubuntu.com/ubuntu bionic/main amd64 python-openssl all 17.5.0-1ubuntu1 [41.3 kB]\n",
            "Get:22 http://archive.ubuntu.com/ubuntu bionic/main amd64 python-pkg-resources all 39.0.1-2 [128 kB]\n",
            "Get:23 http://archive.ubuntu.com/ubuntu bionic/main amd64 python-pyinotify all 0.9.6-1 [24.6 kB]\n",
            "Get:24 http://archive.ubuntu.com/ubuntu bionic/main amd64 python-simplejson amd64 3.13.2-1 [61.2 kB]\n",
            "Get:25 http://archive.ubuntu.com/ubuntu bionic/main amd64 python3-olefile all 0.45.1-1 [33.3 kB]\n",
            "Fetched 1,918 kB in 0s (5,562 kB/s)\n",
            "debconf: unable to initialize frontend: Dialog\n",
            "debconf: (No usable dialog-like program is installed, so the dialog based frontend cannot be used. at /usr/share/perl5/Debconf/FrontEnd/Dialog.pm line 76, <> line 25.)\n",
            "debconf: falling back to frontend: Readline\n",
            "debconf: unable to initialize frontend: Readline\n",
            "debconf: (This frontend requires a controlling tty.)\n",
            "debconf: falling back to frontend: Teletype\n",
            "dpkg-preconfigure: unable to re-open stdin: \n",
            "Selecting previously unselected package javascript-common.\n",
            "(Reading database ... 124006 files and directories currently installed.)\n",
            "Preparing to unpack .../00-javascript-common_11_all.deb ...\n",
            "Unpacking javascript-common (11) ...\n",
            "Selecting previously unselected package libjs-jquery.\n",
            "Preparing to unpack .../01-libjs-jquery_3.2.1-1_all.deb ...\n",
            "Unpacking libjs-jquery (3.2.1-1) ...\n",
            "Selecting previously unselected package python-asn1crypto.\n",
            "Preparing to unpack .../02-python-asn1crypto_0.24.0-1_all.deb ...\n",
            "Unpacking python-asn1crypto (0.24.0-1) ...\n",
            "Selecting previously unselected package python-blinker.\n",
            "Preparing to unpack .../03-python-blinker_1.4+dfsg1-0.1_all.deb ...\n",
            "Unpacking python-blinker (1.4+dfsg1-0.1) ...\n",
            "Selecting previously unselected package python-cffi-backend.\n",
            "Preparing to unpack .../04-python-cffi-backend_1.11.5-1_amd64.deb ...\n",
            "Unpacking python-cffi-backend (1.11.5-1) ...\n",
            "Selecting previously unselected package python-colorama.\n",
            "Preparing to unpack .../05-python-colorama_0.3.7-1_all.deb ...\n",
            "Unpacking python-colorama (0.3.7-1) ...\n",
            "Selecting previously unselected package python-click.\n",
            "Preparing to unpack .../06-python-click_6.7-3_all.deb ...\n",
            "Unpacking python-click (6.7-3) ...\n",
            "Selecting previously unselected package python-enum34.\n",
            "Preparing to unpack .../07-python-enum34_1.1.6-2_all.deb ...\n",
            "Unpacking python-enum34 (1.1.6-2) ...\n",
            "Selecting previously unselected package python-idna.\n",
            "Preparing to unpack .../08-python-idna_2.6-1_all.deb ...\n",
            "Unpacking python-idna (2.6-1) ...\n",
            "Selecting previously unselected package python-ipaddress.\n",
            "Preparing to unpack .../09-python-ipaddress_1.0.17-1_all.deb ...\n",
            "Unpacking python-ipaddress (1.0.17-1) ...\n",
            "Selecting previously unselected package python-six.\n",
            "Preparing to unpack .../10-python-six_1.11.0-2_all.deb ...\n",
            "Unpacking python-six (1.11.0-2) ...\n",
            "Selecting previously unselected package python-cryptography.\n",
            "Preparing to unpack .../11-python-cryptography_2.1.4-1ubuntu1.4_amd64.deb ...\n",
            "Unpacking python-cryptography (2.1.4-1ubuntu1.4) ...\n",
            "Selecting previously unselected package python-itsdangerous.\n",
            "Preparing to unpack .../12-python-itsdangerous_0.24+dfsg1-2_all.deb ...\n",
            "Unpacking python-itsdangerous (0.24+dfsg1-2) ...\n",
            "Selecting previously unselected package python-markupsafe.\n",
            "Preparing to unpack .../13-python-markupsafe_1.0-1build1_amd64.deb ...\n",
            "Unpacking python-markupsafe (1.0-1build1) ...\n",
            "Selecting previously unselected package python-jinja2.\n",
            "Preparing to unpack .../14-python-jinja2_2.10-1ubuntu0.18.04.1_all.deb ...\n",
            "Unpacking python-jinja2 (2.10-1ubuntu0.18.04.1) ...\n",
            "Selecting previously unselected package python-werkzeug.\n",
            "Preparing to unpack .../15-python-werkzeug_0.14.1+dfsg1-1ubuntu0.1_all.deb ...\n",
            "Unpacking python-werkzeug (0.14.1+dfsg1-1ubuntu0.1) ...\n",
            "Selecting previously unselected package python-flask.\n",
            "Preparing to unpack .../16-python-flask_0.12.2-3ubuntu0.1_all.deb ...\n",
            "Unpacking python-flask (0.12.2-3ubuntu0.1) ...\n",
            "Selecting previously unselected package python3-pil:amd64.\n",
            "Preparing to unpack .../17-python3-pil_5.1.0-1ubuntu0.8_amd64.deb ...\n",
            "Unpacking python3-pil:amd64 (5.1.0-1ubuntu0.8) ...\n",
            "Selecting previously unselected package python3-openslide.\n",
            "Preparing to unpack .../18-python3-openslide_1.1.1-2ubuntu4_amd64.deb ...\n",
            "Unpacking python3-openslide (1.1.1-2ubuntu4) ...\n",
            "Selecting previously unselected package python-openslide-examples.\n",
            "Preparing to unpack .../19-python-openslide-examples_1.1.1-2ubuntu4_all.deb ...\n",
            "Unpacking python-openslide-examples (1.1.1-2ubuntu4) ...\n",
            "Selecting previously unselected package python-openssl.\n",
            "Preparing to unpack .../20-python-openssl_17.5.0-1ubuntu1_all.deb ...\n",
            "Unpacking python-openssl (17.5.0-1ubuntu1) ...\n",
            "Selecting previously unselected package python-pkg-resources.\n",
            "Preparing to unpack .../21-python-pkg-resources_39.0.1-2_all.deb ...\n",
            "Unpacking python-pkg-resources (39.0.1-2) ...\n",
            "Selecting previously unselected package python-pyinotify.\n",
            "Preparing to unpack .../22-python-pyinotify_0.9.6-1_all.deb ...\n",
            "Unpacking python-pyinotify (0.9.6-1) ...\n",
            "Selecting previously unselected package python-simplejson.\n",
            "Preparing to unpack .../23-python-simplejson_3.13.2-1_amd64.deb ...\n",
            "Unpacking python-simplejson (3.13.2-1) ...\n",
            "Selecting previously unselected package python3-olefile.\n",
            "Preparing to unpack .../24-python3-olefile_0.45.1-1_all.deb ...\n",
            "Unpacking python3-olefile (0.45.1-1) ...\n",
            "Setting up python-idna (2.6-1) ...\n",
            "Setting up python-simplejson (3.13.2-1) ...\n",
            "Setting up libjs-jquery (3.2.1-1) ...\n",
            "Setting up python-asn1crypto (0.24.0-1) ...\n",
            "Setting up python3-pil:amd64 (5.1.0-1ubuntu0.8) ...\n",
            "Setting up python-blinker (1.4+dfsg1-0.1) ...\n",
            "Setting up python3-olefile (0.45.1-1) ...\n",
            "Setting up python-colorama (0.3.7-1) ...\n",
            "Setting up python-pkg-resources (39.0.1-2) ...\n",
            "Setting up python-markupsafe (1.0-1build1) ...\n",
            "Setting up python-werkzeug (0.14.1+dfsg1-1ubuntu0.1) ...\n",
            "Setting up python-pyinotify (0.9.6-1) ...\n",
            "Setting up python-cffi-backend (1.11.5-1) ...\n",
            "Setting up python3-openslide (1.1.1-2ubuntu4) ...\n",
            "Setting up python-six (1.11.0-2) ...\n",
            "Setting up python-enum34 (1.1.6-2) ...\n",
            "Setting up javascript-common (11) ...\n",
            "Setting up python-itsdangerous (0.24+dfsg1-2) ...\n",
            "Setting up python-ipaddress (1.0.17-1) ...\n",
            "Setting up python-jinja2 (2.10-1ubuntu0.18.04.1) ...\n",
            "Setting up python-click (6.7-3) ...\n",
            "Setting up python-cryptography (2.1.4-1ubuntu1.4) ...\n",
            "Setting up python-flask (0.12.2-3ubuntu0.1) ...\n",
            "Setting up python-openssl (17.5.0-1ubuntu1) ...\n",
            "Setting up python-openslide-examples (1.1.1-2ubuntu4) ...\n"
          ]
        }
      ],
      "source": [
        "!pip install SlideRunner\n",
        "!sudo apt-get install openslide-tools\t\n",
        "!sudo apt-get install python3-openslide"
      ]
    },
    {
      "cell_type": "code",
      "execution_count": 58,
      "metadata": {
        "colab": {
          "base_uri": "https://localhost:8080/",
          "height": 659
        },
        "id": "AAdpB8EwzIoO",
        "outputId": "d22c8df4-6322-44ac-d847-7986c5c75296"
      },
      "outputs": [
        {
          "output_type": "stream",
          "name": "stdout",
          "text": [
            "Looking in indexes: https://pypi.org/simple, https://us-python.pkg.dev/colab-wheels/public/simple/\n",
            "Collecting sliderunner-dataaccess\n",
            "  Downloading SlideRunner_dataAccess-1.0.9-py3-none-any.whl (40 kB)\n",
            "\u001b[K     |████████████████████████████████| 40 kB 2.1 MB/s \n",
            "\u001b[?25hRequirement already satisfied: pydicom>=2.1.2 in /usr/local/lib/python3.7/dist-packages (from sliderunner-dataaccess) (2.3.1)\n",
            "Requirement already satisfied: matplotlib>=2.0.0 in /usr/local/lib/python3.7/dist-packages (from sliderunner-dataaccess) (3.2.2)\n",
            "Requirement already satisfied: numpy>=1.13 in /usr/local/lib/python3.7/dist-packages (from sliderunner-dataaccess) (1.21.6)\n",
            "Requirement already satisfied: openslide-python>=1.1.1 in /usr/local/lib/python3.7/dist-packages (from sliderunner-dataaccess) (1.2.0)\n",
            "Collecting pillow>=8.0.1\n",
            "  Downloading Pillow-9.3.0-cp37-cp37m-manylinux_2_17_x86_64.manylinux2014_x86_64.whl (3.2 MB)\n",
            "\u001b[K     |████████████████████████████████| 3.2 MB 7.5 MB/s \n",
            "\u001b[?25hCollecting nibabel>=3.1.1\n",
            "  Downloading nibabel-4.0.2-py3-none-any.whl (3.3 MB)\n",
            "\u001b[K     |████████████████████████████████| 3.3 MB 33.9 MB/s \n",
            "\u001b[?25hRequirement already satisfied: pyparsing!=2.0.4,!=2.1.2,!=2.1.6,>=2.0.1 in /usr/local/lib/python3.7/dist-packages (from matplotlib>=2.0.0->sliderunner-dataaccess) (3.0.9)\n",
            "Requirement already satisfied: kiwisolver>=1.0.1 in /usr/local/lib/python3.7/dist-packages (from matplotlib>=2.0.0->sliderunner-dataaccess) (1.4.4)\n",
            "Requirement already satisfied: cycler>=0.10 in /usr/local/lib/python3.7/dist-packages (from matplotlib>=2.0.0->sliderunner-dataaccess) (0.11.0)\n",
            "Requirement already satisfied: python-dateutil>=2.1 in /usr/local/lib/python3.7/dist-packages (from matplotlib>=2.0.0->sliderunner-dataaccess) (2.8.2)\n",
            "Requirement already satisfied: typing-extensions in /usr/local/lib/python3.7/dist-packages (from kiwisolver>=1.0.1->matplotlib>=2.0.0->sliderunner-dataaccess) (4.1.1)\n",
            "Requirement already satisfied: packaging>=17.0 in /usr/local/lib/python3.7/dist-packages (from nibabel>=3.1.1->sliderunner-dataaccess) (21.3)\n",
            "Requirement already satisfied: setuptools in /usr/local/lib/python3.7/dist-packages (from nibabel>=3.1.1->sliderunner-dataaccess) (57.4.0)\n",
            "Requirement already satisfied: six>=1.5 in /usr/local/lib/python3.7/dist-packages (from python-dateutil>=2.1->matplotlib>=2.0.0->sliderunner-dataaccess) (1.15.0)\n",
            "Installing collected packages: pillow, nibabel, sliderunner-dataaccess\n",
            "  Attempting uninstall: pillow\n",
            "    Found existing installation: Pillow 7.1.2\n",
            "    Uninstalling Pillow-7.1.2:\n",
            "      Successfully uninstalled Pillow-7.1.2\n",
            "  Attempting uninstall: nibabel\n",
            "    Found existing installation: nibabel 3.0.2\n",
            "    Uninstalling nibabel-3.0.2:\n",
            "      Successfully uninstalled nibabel-3.0.2\n",
            "Successfully installed nibabel-4.0.2 pillow-9.3.0 sliderunner-dataaccess-1.0.9\n"
          ]
        },
        {
          "output_type": "display_data",
          "data": {
            "application/vnd.colab-display-data+json": {
              "pip_warning": {
                "packages": [
                  "PIL"
                ]
              }
            }
          },
          "metadata": {}
        }
      ],
      "source": [
        "!pip install sliderunner-dataaccess"
      ]
    },
    {
      "cell_type": "code",
      "execution_count": 59,
      "metadata": {
        "colab": {
          "base_uri": "https://localhost:8080/",
          "height": 1000
        },
        "id": "roXkI6Ka1lJl",
        "outputId": "69908807-85a3-4052-8eb5-f183aca4e1c2"
      },
      "outputs": [
        {
          "output_type": "stream",
          "name": "stdout",
          "text": [
            "Looking in indexes: https://pypi.org/simple, https://us-python.pkg.dev/colab-wheels/public/simple/\n",
            "Collecting requests-toolbelt\n",
            "  Downloading requests_toolbelt-0.10.1-py2.py3-none-any.whl (54 kB)\n",
            "\u001b[K     |████████████████████████████████| 54 kB 1.7 MB/s \n",
            "\u001b[?25hRequirement already satisfied: requests<3.0.0,>=2.0.1 in /usr/local/lib/python3.7/dist-packages (from requests-toolbelt) (2.23.0)\n",
            "Requirement already satisfied: urllib3!=1.25.0,!=1.25.1,<1.26,>=1.21.1 in /usr/local/lib/python3.7/dist-packages (from requests<3.0.0,>=2.0.1->requests-toolbelt) (1.24.3)\n",
            "Requirement already satisfied: chardet<4,>=3.0.2 in /usr/local/lib/python3.7/dist-packages (from requests<3.0.0,>=2.0.1->requests-toolbelt) (3.0.4)\n",
            "Requirement already satisfied: certifi>=2017.4.17 in /usr/local/lib/python3.7/dist-packages (from requests<3.0.0,>=2.0.1->requests-toolbelt) (2022.9.24)\n",
            "Requirement already satisfied: idna<3,>=2.5 in /usr/local/lib/python3.7/dist-packages (from requests<3.0.0,>=2.0.1->requests-toolbelt) (2.10)\n",
            "Installing collected packages: requests-toolbelt\n",
            "Successfully installed requests-toolbelt-0.10.1\n",
            "Looking in indexes: https://pypi.org/simple, https://us-python.pkg.dev/colab-wheels/public/simple/\n",
            "Collecting EXCAT-Sync\n",
            "  Downloading EXCAT_Sync-0.0.34-py3-none-any.whl (127 kB)\n",
            "\u001b[K     |████████████████████████████████| 127 kB 7.2 MB/s \n",
            "\u001b[?25hCollecting locust==1.1.0\n",
            "  Downloading locust-1.1-py3-none-any.whl (288 kB)\n",
            "\u001b[K     |████████████████████████████████| 288 kB 29.1 MB/s \n",
            "\u001b[?25hRequirement already satisfied: requests in /usr/local/lib/python3.7/dist-packages (from EXCAT-Sync) (2.23.0)\n",
            "Requirement already satisfied: requests-toolbelt in /usr/local/lib/python3.7/dist-packages (from EXCAT-Sync) (0.10.1)\n",
            "Requirement already satisfied: tqdm in /usr/local/lib/python3.7/dist-packages (from EXCAT-Sync) (4.64.1)\n",
            "Requirement already satisfied: pillow in /usr/local/lib/python3.7/dist-packages (from EXCAT-Sync) (9.3.0)\n",
            "Requirement already satisfied: pyzmq>=16.0.2 in /usr/local/lib/python3.7/dist-packages (from locust==1.1.0->EXCAT-Sync) (23.2.1)\n",
            "Requirement already satisfied: msgpack>=0.6.2 in /usr/local/lib/python3.7/dist-packages (from locust==1.1.0->EXCAT-Sync) (1.0.4)\n",
            "Requirement already satisfied: flask>=1.1.2 in /usr/local/lib/python3.7/dist-packages (from locust==1.1.0->EXCAT-Sync) (1.1.4)\n",
            "Collecting Flask-BasicAuth>=0.2.0\n",
            "  Downloading Flask-BasicAuth-0.2.0.tar.gz (16 kB)\n",
            "Collecting gevent>=1.5.0\n",
            "  Downloading gevent-22.10.2-cp37-cp37m-manylinux_2_17_x86_64.manylinux2014_x86_64.whl (6.0 MB)\n",
            "\u001b[K     |████████████████████████████████| 6.0 MB 38.7 MB/s \n",
            "\u001b[?25hCollecting ConfigArgParse>=1.0\n",
            "  Downloading ConfigArgParse-1.5.3-py3-none-any.whl (20 kB)\n",
            "Collecting geventhttpclient>=1.4.2\n",
            "  Downloading geventhttpclient-2.0.8-cp37-cp37m-manylinux_2_5_x86_64.manylinux1_x86_64.manylinux_2_17_x86_64.manylinux2014_x86_64.whl (103 kB)\n",
            "\u001b[K     |████████████████████████████████| 103 kB 45.4 MB/s \n",
            "\u001b[?25hCollecting psutil>=5.6.7\n",
            "  Downloading psutil-5.9.4-cp36-abi3-manylinux_2_12_x86_64.manylinux2010_x86_64.manylinux_2_17_x86_64.manylinux2014_x86_64.whl (280 kB)\n",
            "\u001b[K     |████████████████████████████████| 280 kB 60.1 MB/s \n",
            "\u001b[?25hRequirement already satisfied: Jinja2<3.0,>=2.10.1 in /usr/local/lib/python3.7/dist-packages (from flask>=1.1.2->locust==1.1.0->EXCAT-Sync) (2.11.3)\n",
            "Requirement already satisfied: itsdangerous<2.0,>=0.24 in /usr/local/lib/python3.7/dist-packages (from flask>=1.1.2->locust==1.1.0->EXCAT-Sync) (1.1.0)\n",
            "Requirement already satisfied: Werkzeug<2.0,>=0.15 in /usr/local/lib/python3.7/dist-packages (from flask>=1.1.2->locust==1.1.0->EXCAT-Sync) (1.0.1)\n",
            "Requirement already satisfied: click<8.0,>=5.1 in /usr/local/lib/python3.7/dist-packages (from flask>=1.1.2->locust==1.1.0->EXCAT-Sync) (7.1.2)\n",
            "Requirement already satisfied: setuptools in /usr/local/lib/python3.7/dist-packages (from gevent>=1.5.0->locust==1.1.0->EXCAT-Sync) (57.4.0)\n",
            "Requirement already satisfied: greenlet>=2.0.0 in /usr/local/lib/python3.7/dist-packages (from gevent>=1.5.0->locust==1.1.0->EXCAT-Sync) (2.0.1)\n",
            "Collecting zope.event\n",
            "  Downloading zope.event-4.5.0-py2.py3-none-any.whl (6.8 kB)\n",
            "Collecting zope.interface\n",
            "  Downloading zope.interface-5.5.2-cp37-cp37m-manylinux_2_5_x86_64.manylinux1_x86_64.manylinux_2_12_x86_64.manylinux2010_x86_64.whl (254 kB)\n",
            "\u001b[K     |████████████████████████████████| 254 kB 44.8 MB/s \n",
            "\u001b[?25hRequirement already satisfied: certifi in /usr/local/lib/python3.7/dist-packages (from geventhttpclient>=1.4.2->locust==1.1.0->EXCAT-Sync) (2022.9.24)\n",
            "Requirement already satisfied: six in /usr/local/lib/python3.7/dist-packages (from geventhttpclient>=1.4.2->locust==1.1.0->EXCAT-Sync) (1.15.0)\n",
            "Collecting brotli\n",
            "  Downloading Brotli-1.0.9-cp37-cp37m-manylinux1_x86_64.whl (357 kB)\n",
            "\u001b[K     |████████████████████████████████| 357 kB 34.6 MB/s \n",
            "\u001b[?25hRequirement already satisfied: MarkupSafe>=0.23 in /usr/local/lib/python3.7/dist-packages (from Jinja2<3.0,>=2.10.1->flask>=1.1.2->locust==1.1.0->EXCAT-Sync) (2.0.1)\n",
            "Requirement already satisfied: idna<3,>=2.5 in /usr/local/lib/python3.7/dist-packages (from requests->EXCAT-Sync) (2.10)\n",
            "Requirement already satisfied: chardet<4,>=3.0.2 in /usr/local/lib/python3.7/dist-packages (from requests->EXCAT-Sync) (3.0.4)\n",
            "Requirement already satisfied: urllib3!=1.25.0,!=1.25.1,<1.26,>=1.21.1 in /usr/local/lib/python3.7/dist-packages (from requests->EXCAT-Sync) (1.24.3)\n",
            "Building wheels for collected packages: Flask-BasicAuth\n",
            "  Building wheel for Flask-BasicAuth (setup.py) ... \u001b[?25l\u001b[?25hdone\n",
            "  Created wheel for Flask-BasicAuth: filename=Flask_BasicAuth-0.2.0-py3-none-any.whl size=4242 sha256=294f3317c1d40b213ebced4b5c0103ef0344da373cef07417c247ec888af295f\n",
            "  Stored in directory: /root/.cache/pip/wheels/d5/08/a3/19638d90fdf01258ede772449bcbde424839459749acb977b6\n",
            "Successfully built Flask-BasicAuth\n",
            "Installing collected packages: zope.interface, zope.event, gevent, brotli, psutil, geventhttpclient, Flask-BasicAuth, ConfigArgParse, locust, EXCAT-Sync\n",
            "  Attempting uninstall: psutil\n",
            "    Found existing installation: psutil 5.4.8\n",
            "    Uninstalling psutil-5.4.8:\n",
            "      Successfully uninstalled psutil-5.4.8\n",
            "Successfully installed ConfigArgParse-1.5.3 EXCAT-Sync-0.0.34 Flask-BasicAuth-0.2.0 brotli-1.0.9 gevent-22.10.2 geventhttpclient-2.0.8 locust-1.1 psutil-5.9.4 zope.event-4.5.0 zope.interface-5.5.2\n"
          ]
        },
        {
          "output_type": "display_data",
          "data": {
            "application/vnd.colab-display-data+json": {
              "pip_warning": {
                "packages": [
                  "psutil"
                ]
              }
            }
          },
          "metadata": {}
        }
      ],
      "source": [
        "!pip install requests-toolbelt\n",
        "!pip install EXCAT-Sync"
      ]
    },
    {
      "cell_type": "code",
      "source": [
        "!mkdir patchExtraction_final"
      ],
      "metadata": {
        "id": "FhyT_vng-Qpk"
      },
      "execution_count": 60,
      "outputs": []
    },
    {
      "cell_type": "code",
      "source": [],
      "metadata": {
        "id": "7m12a_EN9vZb"
      },
      "execution_count": 60,
      "outputs": []
    },
    {
      "cell_type": "code",
      "execution_count": 62,
      "metadata": {
        "id": "PkJhlQ8loGaE"
      },
      "outputs": [],
      "source": [
        "#Code refactored from ExtractPatches.py\n",
        "#Extract Slide2 patches\n",
        "\n",
        "import numpy as np \n",
        "import SlideRunner.general.dependencies\n",
        "from SlideRunner.dataAccess.database import Database\n",
        "from SlideRunner.dataAccess.annotations import *\n",
        "import os\n",
        "import openslide\n",
        "import sqlite3\n",
        "import cv2\n",
        "import sys\n",
        "\n",
        "DB = Database()\n",
        "patchSize=64\n",
        "def listOfSlides(DB):\n",
        "    DB.execute('SELECT uid,filename from Slides')\n",
        "    return DB.fetchall()\n",
        "from os import system\n",
        "DB.open('../databases/MITOS_WSI_CMC_MEL.sqlite')  #Change the original code here to use MEL data\n",
        "slideid = 2\n",
        "filename = 'a8773be388e12df89edd.svs'\n",
        "DB.loadIntoMemory(slideid)\n",
        "basepath='../WSI/'\n",
        "slide=openslide.open_slide(basepath+filename)\n",
        "i = 0\n",
        "while(i<len(data_slide2)):   #FSL annotations should be used here\n",
        "        anno = data_slide2['subcl']\n",
        "        coordinate = data_slide2.iloc[i]['ctr']\n",
        "        coord_x = coordinate[0]\n",
        "        coord_y = coordinate[1]\n",
        "        lu_x = int(coord_x - int(patchSize/2))\n",
        "        lu_y = int(coord_y - int(patchSize/2))\n",
        "        img = np.array(slide.read_region(location=(lu_x, lu_y), level=0, size=(patchSize, patchSize)))\n",
        "        img = cv2.cvtColor(img, cv2.COLOR_RGBA2BGR)\n",
        "        if (data_slide2.iloc[i][5] == 2):\n",
        "            cv2.imwrite('patchExtraction_final/' + str(2) + str(i) + '.png' , img)\n",
        "        if (data_slide2.iloc[i][5]==1):\n",
        "            cv2.imwrite('patchExtraction_final/' + str(2) + str(i) + '.png', img)\n",
        "        i = i + 1\n",
        "  \n",
        "\n",
        "\n",
        "\n"
      ]
    },
    {
      "cell_type": "code",
      "source": [
        "#Code refactored from ExtractPatches.py\n",
        "#Extract Slide3 patches\n",
        "\n",
        "import numpy as np \n",
        "import SlideRunner.general.dependencies\n",
        "from SlideRunner.dataAccess.database import Database\n",
        "from SlideRunner.dataAccess.annotations import *\n",
        "import os\n",
        "import openslide\n",
        "import sqlite3\n",
        "import cv2\n",
        "import sys\n",
        "\n",
        "DB = Database()\n",
        "patchSize=64\n",
        "def listOfSlides(DB):\n",
        "    DB.execute('SELECT uid,filename from Slides')\n",
        "    return DB.fetchall()\n",
        "from os import system\n",
        "DB.open('../databases/MITOS_WSI_CMC_MEL.sqlite')  #Change the original code here to use MEL data\n",
        "slideid = 3\n",
        "filename = 'deb768e5efb9d1dcbc13.svs'\n",
        "DB.loadIntoMemory(slideid)\n",
        "basepath='../WSI/'\n",
        "slide=openslide.open_slide(basepath+filename)\n",
        "i = 0\n",
        "while(i<len(data_slide3)):   #FSL annotations should be used here\n",
        "        anno = data_slide3['subcl']\n",
        "        coordinate = data_slide3.iloc[i]['ctr']\n",
        "        coord_x = coordinate[0]\n",
        "        coord_y = coordinate[1]\n",
        "        lu_x = int(coord_x - int(patchSize/2))\n",
        "        lu_y = int(coord_y - int(patchSize/2))\n",
        "        img = np.array(slide.read_region(location=(lu_x, lu_y), level=0, size=(patchSize, patchSize)))\n",
        "        img = cv2.cvtColor(img, cv2.COLOR_RGBA2BGR)\n",
        "        if (data_slide3.iloc[i][5] == 2):\n",
        "            cv2.imwrite('patchExtraction_final/' + str(3) + str(i) + '.png' , img)\n",
        "        if (data_slide3.iloc[i][5]==1):\n",
        "            cv2.imwrite('patchExtraction_final/' + str(3) + str(i) + '.png', img)\n",
        "        i = i + 1\n",
        "  \n"
      ],
      "metadata": {
        "id": "vUwaCWJnD4Us"
      },
      "execution_count": 63,
      "outputs": []
    },
    {
      "cell_type": "code",
      "source": [
        "#Code refactored from ExtractPatches.py\n",
        "#Extract Slide5 patches\n",
        "\n",
        "import numpy as np \n",
        "import SlideRunner.general.dependencies\n",
        "from SlideRunner.dataAccess.database import Database\n",
        "from SlideRunner.dataAccess.annotations import *\n",
        "import os\n",
        "import openslide\n",
        "import sqlite3\n",
        "import cv2\n",
        "import sys\n",
        "\n",
        "DB = Database()\n",
        "patchSize=64\n",
        "def listOfSlides(DB):\n",
        "    DB.execute('SELECT uid,filename from Slides')\n",
        "    return DB.fetchall()\n",
        "from os import system\n",
        "DB.open('../databases/MITOS_WSI_CMC_MEL.sqlite')  #Change the original code here to use MEL data\n",
        "slideid = 5\n",
        "filename = '72c93e042d0171a61012.svs'\n",
        "DB.loadIntoMemory(slideid)\n",
        "slide=openslide.open_slide(basepath+filename)\n",
        "i = 0\n",
        "while(i<len(data_slide5)):   #FSL annotations should be used here\n",
        "        anno = data_slide5['subcl']\n",
        "        coordinate = data_slide5.iloc[i]['ctr']\n",
        "        coord_x = coordinate[0]\n",
        "        coord_y = coordinate[1]\n",
        "        lu_x = int(coord_x - int(patchSize/2))\n",
        "        lu_y = int(coord_y - int(patchSize/2))\n",
        "        img = np.array(slide.read_region(location=(lu_x, lu_y), level=0, size=(patchSize, patchSize)))\n",
        "        img = cv2.cvtColor(img, cv2.COLOR_RGBA2BGR)\n",
        "        if (data_slide5.iloc[i][5] == 2):\n",
        "            cv2.imwrite('patchExtraction_final/' + str(5) + str(i) + '.png' , img)\n",
        "        if (data_slide5.iloc[i][5]==1):\n",
        "            cv2.imwrite('patchExtraction_final/' + str(5) + str(i) + '.png', img)\n",
        "        i = i + 1\n",
        "  \n"
      ],
      "metadata": {
        "id": "KSZvt5D5D5fB"
      },
      "execution_count": 64,
      "outputs": []
    },
    {
      "cell_type": "code",
      "source": [
        "#Code refactored from ExtractPatches.py\n",
        "#Extract Slide7 patches\n",
        "\n",
        "import numpy as np \n",
        "import SlideRunner.general.dependencies\n",
        "from SlideRunner.dataAccess.database import Database\n",
        "from SlideRunner.dataAccess.annotations import *\n",
        "import os\n",
        "import openslide\n",
        "import sqlite3\n",
        "import cv2\n",
        "import sys\n",
        "\n",
        "DB = Database()\n",
        "patchSize=64\n",
        "def listOfSlides(DB):\n",
        "    DB.execute('SELECT uid,filename from Slides')\n",
        "    return DB.fetchall()\n",
        "from os import system\n",
        "DB.open('../databases/MITOS_WSI_CMC_MEL.sqlite')  #Change the original code here to use MEL data\n",
        "slideid = 7\n",
        "filename = '084383c18b9060880e82.svs'\n",
        "DB.loadIntoMemory(slideid)\n",
        "slide=openslide.open_slide(basepath+filename)\n",
        "i = 0\n",
        "while(i<len(data_slide7)):   #FSL annotations should be used here\n",
        "        anno = data_slide7['subcl']\n",
        "        coordinate = data_slide7.iloc[i]['ctr']\n",
        "        coord_x = coordinate[0]\n",
        "        coord_y = coordinate[1]\n",
        "        lu_x = int(coord_x - int(patchSize/2))\n",
        "        lu_y = int(coord_y - int(patchSize/2))\n",
        "        img = np.array(slide.read_region(location=(lu_x, lu_y), level=0, size=(patchSize, patchSize)))\n",
        "        img = cv2.cvtColor(img, cv2.COLOR_RGBA2BGR)\n",
        "        if (data_slide7.iloc[i][5] == 2):\n",
        "            cv2.imwrite('patchExtraction_final/' + str(7) + str(i) + '.png' , img)\n",
        "        if (data_slide7.iloc[i][5]==1):\n",
        "            cv2.imwrite('patchExtraction_final/' + str(7) + str(i) + '.png', img)\n",
        "        i = i + 1\n",
        "  \n"
      ],
      "metadata": {
        "id": "hw4rSBGfD6XS"
      },
      "execution_count": 66,
      "outputs": []
    },
    {
      "cell_type": "code",
      "source": [
        "#Code refactored from ExtractPatches.py\n",
        "#Extract Slide8 patches\n",
        "\n",
        "import numpy as np \n",
        "import SlideRunner.general.dependencies\n",
        "from SlideRunner.dataAccess.database import Database\n",
        "from SlideRunner.dataAccess.annotations import *\n",
        "import os\n",
        "import openslide\n",
        "import sqlite3\n",
        "import cv2\n",
        "import sys\n",
        "\n",
        "DB = Database()\n",
        "patchSize=64\n",
        "def listOfSlides(DB):\n",
        "    DB.execute('SELECT uid,filename from Slides')\n",
        "    return DB.fetchall()\n",
        "from os import system\n",
        "DB.open('../databases/MITOS_WSI_CMC_MEL.sqlite')  #Change the original code here to use MEL data\n",
        "slideid = 8\n",
        "filename = 'da18e7b9846e9d38034c.svs'\n",
        "DB.loadIntoMemory(slideid)\n",
        "slide=openslide.open_slide(basepath+filename)\n",
        "i = 0\n",
        "while(i<len(data_slide8)):   #FSL annotations should be used here\n",
        "        anno = data_slide8['subcl']\n",
        "        coordinate = data_slide8.iloc[i]['ctr']\n",
        "        coord_x = coordinate[0]\n",
        "        coord_y = coordinate[1]\n",
        "        lu_x = int(coord_x - int(patchSize/2))\n",
        "        lu_y = int(coord_y - int(patchSize/2))\n",
        "        img = np.array(slide.read_region(location=(lu_x, lu_y), level=0, size=(patchSize, patchSize)))\n",
        "        img = cv2.cvtColor(img, cv2.COLOR_RGBA2BGR)\n",
        "        if (data_slide8.iloc[i][5] == 2):\n",
        "            cv2.imwrite('patchExtraction_final/' + str(8) + str(i) + '.png' , img)\n",
        "        if (data_slide8.iloc[i][5]==1):\n",
        "            cv2.imwrite('patchExtraction_final/' + str(8) + str(i) + '.png', img)\n",
        "        i = i + 1\n",
        "  \n"
      ],
      "metadata": {
        "id": "iuCAIteO9DuQ"
      },
      "execution_count": 67,
      "outputs": []
    },
    {
      "cell_type": "code",
      "source": [
        "%cd patchExtraction_final/"
      ],
      "metadata": {
        "colab": {
          "base_uri": "https://localhost:8080/"
        },
        "id": "fz5pRjg7-01d",
        "outputId": "e3980066-cbed-4b40-ea52-2ab08c0513e0"
      },
      "execution_count": 69,
      "outputs": [
        {
          "output_type": "stream",
          "name": "stdout",
          "text": [
            "/content/drive/MyDrive/MITOS_WSI_CMC/databases/patchExtraction_final\n"
          ]
        }
      ]
    },
    {
      "cell_type": "code",
      "execution_count": 68,
      "metadata": {
        "colab": {
          "base_uri": "https://localhost:8080/"
        },
        "id": "MkK9bS_pvhDf",
        "outputId": "f2ff9e96-8ee9-499e-8adf-55f7ab4e6bae"
      },
      "outputs": [
        {
          "output_type": "stream",
          "name": "stdout",
          "text": [
            "/content/drive/MyDrive/MITOS_WSI_CMC/databases\n"
          ]
        }
      ],
      "source": [
        "!pwd"
      ]
    },
    {
      "cell_type": "code",
      "execution_count": 70,
      "metadata": {
        "colab": {
          "base_uri": "https://localhost:8080/"
        },
        "id": "dQq5baNRvSkg",
        "outputId": "91e9c1a0-e383-411d-d43d-fe19d4a5e364"
      },
      "outputs": [
        {
          "output_type": "stream",
          "name": "stdout",
          "text": [
            "20.png\t  3127.png  399.png   526.png\t7137.png  7248.png  786.png   8197.png\n",
            "210.png   3128.png  39.png    527.png\t7138.png  7249.png  787.png   8198.png\n",
            "211.png   3129.png  50.png    528.png\t7139.png  724.png   788.png   8199.png\n",
            "212.png   312.png   5100.png  529.png\t713.png   7250.png  789.png   819.png\n",
            "213.png   3130.png  5101.png  52.png\t7140.png  7251.png  78.png    81.png\n",
            "214.png   3131.png  5102.png  530.png\t7141.png  7252.png  790.png   8200.png\n",
            "215.png   3132.png  5103.png  531.png\t7142.png  7253.png  791.png   8201.png\n",
            "216.png   3133.png  5104.png  532.png\t7143.png  7254.png  792.png   8202.png\n",
            "217.png   3134.png  5105.png  533.png\t7144.png  7255.png  793.png   8203.png\n",
            "218.png   3135.png  5106.png  534.png\t7145.png  7256.png  794.png   8204.png\n",
            "219.png   3136.png  5107.png  535.png\t7146.png  7257.png  795.png   8205.png\n",
            "21.png\t  3137.png  5108.png  536.png\t7147.png  7258.png  796.png   8206.png\n",
            "220.png   3138.png  5109.png  537.png\t7148.png  7259.png  797.png   8207.png\n",
            "221.png   3139.png  510.png   538.png\t7149.png  725.png   798.png   8208.png\n",
            "222.png   313.png   5110.png  539.png\t714.png   7260.png  799.png   8209.png\n",
            "223.png   3140.png  5111.png  53.png\t7150.png  7261.png  79.png    820.png\n",
            "224.png   3141.png  5112.png  540.png\t7151.png  7262.png  80.png    8210.png\n",
            "225.png   3142.png  5113.png  541.png\t7152.png  7263.png  8100.png  8211.png\n",
            "226.png   3143.png  5114.png  542.png\t7153.png  7264.png  8101.png  8212.png\n",
            "227.png   3144.png  5115.png  543.png\t7154.png  7265.png  8102.png  8213.png\n",
            "228.png   3145.png  5116.png  544.png\t7155.png  7266.png  8103.png  8214.png\n",
            "229.png   3146.png  5117.png  545.png\t7156.png  7267.png  8104.png  8215.png\n",
            "22.png\t  3147.png  5118.png  546.png\t7157.png  7268.png  8105.png  8216.png\n",
            "230.png   3148.png  5119.png  547.png\t7158.png  7269.png  8106.png  8217.png\n",
            "231.png   3149.png  511.png   548.png\t7159.png  726.png   8107.png  8218.png\n",
            "232.png   314.png   5120.png  549.png\t715.png   7270.png  8108.png  8219.png\n",
            "233.png   3150.png  5121.png  54.png\t7160.png  7271.png  8109.png  821.png\n",
            "234.png   3151.png  5122.png  550.png\t7161.png  7272.png  810.png   8220.png\n",
            "235.png   3152.png  5123.png  551.png\t7162.png  7273.png  8110.png  8221.png\n",
            "236.png   3153.png  5124.png  552.png\t7163.png  7274.png  8111.png  8222.png\n",
            "237.png   3154.png  5125.png  553.png\t7164.png  7275.png  8112.png  8223.png\n",
            "238.png   315.png   5126.png  554.png\t7165.png  7276.png  8113.png  8224.png\n",
            "239.png   316.png   5127.png  555.png\t7166.png  7277.png  8114.png  8225.png\n",
            "23.png\t  317.png   5128.png  556.png\t7167.png  7278.png  8115.png  8226.png\n",
            "240.png   318.png   5129.png  557.png\t7168.png  7279.png  8116.png  8227.png\n",
            "241.png   319.png   512.png   558.png\t7169.png  727.png   8117.png  8228.png\n",
            "242.png   31.png    5130.png  559.png\t716.png   7280.png  8118.png  8229.png\n",
            "243.png   320.png   5131.png  55.png\t7170.png  7281.png  8119.png  822.png\n",
            "244.png   321.png   5132.png  560.png\t7171.png  7282.png  811.png   823.png\n",
            "245.png   322.png   5133.png  561.png\t7172.png  7283.png  8120.png  824.png\n",
            "246.png   323.png   5134.png  562.png\t7173.png  7284.png  8121.png  825.png\n",
            "247.png   324.png   5135.png  563.png\t7174.png  7285.png  8122.png  826.png\n",
            "248.png   325.png   5136.png  564.png\t7175.png  7286.png  8123.png  827.png\n",
            "249.png   326.png   5137.png  565.png\t7176.png  7287.png  8124.png  828.png\n",
            "24.png\t  327.png   5138.png  566.png\t7177.png  7288.png  8125.png  829.png\n",
            "250.png   328.png   5139.png  567.png\t7178.png  7289.png  8126.png  82.png\n",
            "251.png   329.png   513.png   568.png\t7179.png  728.png   8127.png  830.png\n",
            "252.png   32.png    5140.png  569.png\t717.png   7290.png  8128.png  831.png\n",
            "253.png   330.png   5141.png  56.png\t7180.png  7291.png  8129.png  832.png\n",
            "254.png   331.png   5142.png  570.png\t7181.png  7292.png  812.png   833.png\n",
            "255.png   332.png   5143.png  571.png\t7182.png  7293.png  8130.png  834.png\n",
            "256.png   333.png   5144.png  572.png\t7183.png  7294.png  8131.png  835.png\n",
            "257.png   334.png   5145.png  573.png\t7184.png  7295.png  8132.png  836.png\n",
            "258.png   335.png   5146.png  574.png\t7185.png  7296.png  8133.png  837.png\n",
            "259.png   336.png   5147.png  575.png\t7186.png  7297.png  8134.png  838.png\n",
            "25.png\t  337.png   5148.png  576.png\t7187.png  7298.png  8135.png  839.png\n",
            "260.png   338.png   5149.png  577.png\t7188.png  7299.png  8136.png  83.png\n",
            "261.png   339.png   514.png   578.png\t7189.png  729.png   8137.png  840.png\n",
            "262.png   33.png    5150.png  579.png\t718.png   72.png    8138.png  841.png\n",
            "263.png   340.png   5151.png  57.png\t7190.png  7300.png  8139.png  842.png\n",
            "264.png   341.png   5152.png  580.png\t7191.png  7301.png  813.png   843.png\n",
            "265.png   342.png   5153.png  581.png\t7192.png  7302.png  8140.png  844.png\n",
            "266.png   343.png   5154.png  582.png\t7193.png  730.png   8141.png  845.png\n",
            "267.png   344.png   5155.png  583.png\t7194.png  731.png   8142.png  846.png\n",
            "268.png   345.png   5156.png  584.png\t7195.png  732.png   8143.png  847.png\n",
            "269.png   346.png   5157.png  585.png\t7196.png  733.png   8144.png  848.png\n",
            "26.png\t  347.png   5158.png  586.png\t7197.png  734.png   8145.png  849.png\n",
            "270.png   348.png   5159.png  587.png\t7198.png  735.png   8146.png  84.png\n",
            "271.png   349.png   515.png   588.png\t7199.png  736.png   8147.png  850.png\n",
            "272.png   34.png    5160.png  589.png\t719.png   737.png   8148.png  851.png\n",
            "273.png   350.png   5161.png  58.png\t71.png\t  738.png   8149.png  852.png\n",
            "274.png   351.png   5162.png  590.png\t7200.png  739.png   814.png   853.png\n",
            "275.png   352.png   5163.png  591.png\t7201.png  73.png    8150.png  854.png\n",
            "276.png   353.png   5164.png  592.png\t7202.png  740.png   8151.png  855.png\n",
            "277.png   354.png   5165.png  593.png\t7203.png  741.png   8152.png  856.png\n",
            "278.png   355.png   5166.png  594.png\t7204.png  742.png   8153.png  857.png\n",
            "279.png   356.png   5167.png  595.png\t7205.png  743.png   8154.png  858.png\n",
            "27.png\t  357.png   5168.png  596.png\t7206.png  744.png   8155.png  859.png\n",
            "280.png   358.png   5169.png  597.png\t7207.png  745.png   8156.png  85.png\n",
            "281.png   359.png   516.png   598.png\t7208.png  746.png   8157.png  860.png\n",
            "282.png   35.png    5170.png  599.png\t7209.png  747.png   8158.png  861.png\n",
            "283.png   360.png   5171.png  59.png\t720.png   748.png   8159.png  862.png\n",
            "284.png   361.png   5172.png  70.png\t7210.png  749.png   815.png   863.png\n",
            "285.png   362.png   5173.png  7100.png\t7211.png  74.png    8160.png  864.png\n",
            "286.png   363.png   5174.png  7101.png\t7212.png  750.png   8161.png  865.png\n",
            "287.png   364.png   5175.png  7102.png\t7213.png  751.png   8162.png  866.png\n",
            "288.png   365.png   5176.png  7103.png\t7214.png  752.png   8163.png  867.png\n",
            "289.png   366.png   5177.png  7104.png\t7215.png  753.png   8164.png  868.png\n",
            "28.png\t  367.png   5178.png  7105.png\t7216.png  754.png   8165.png  869.png\n",
            "290.png   368.png   5179.png  7106.png\t7217.png  755.png   8166.png  86.png\n",
            "291.png   369.png   517.png   7107.png\t7218.png  756.png   8167.png  870.png\n",
            "292.png   36.png    5180.png  7108.png\t7219.png  757.png   8168.png  871.png\n",
            "29.png\t  370.png   5181.png  7109.png\t721.png   758.png   8169.png  872.png\n",
            "30.png\t  371.png   5182.png  710.png\t7220.png  759.png   816.png   873.png\n",
            "3100.png  372.png   5183.png  7110.png\t7221.png  75.png    8170.png  874.png\n",
            "3101.png  373.png   5184.png  7111.png\t7222.png  760.png   8171.png  875.png\n",
            "3102.png  374.png   5185.png  7112.png\t7223.png  761.png   8172.png  876.png\n",
            "3103.png  375.png   5186.png  7113.png\t7224.png  762.png   8173.png  877.png\n",
            "3104.png  376.png   5187.png  7114.png\t7225.png  763.png   8174.png  878.png\n",
            "3105.png  377.png   5188.png  7115.png\t7226.png  764.png   8175.png  879.png\n",
            "3106.png  378.png   5189.png  7116.png\t7227.png  765.png   8176.png  87.png\n",
            "3107.png  379.png   518.png   7117.png\t7228.png  766.png   8177.png  880.png\n",
            "3108.png  37.png    5190.png  7118.png\t7229.png  767.png   8178.png  881.png\n",
            "3109.png  380.png   5191.png  7119.png\t722.png   768.png   8179.png  882.png\n",
            "310.png   381.png   5192.png  711.png\t7230.png  769.png   817.png   883.png\n",
            "3110.png  382.png   5193.png  7120.png\t7231.png  76.png    8180.png  884.png\n",
            "3111.png  383.png   5194.png  7121.png\t7232.png  770.png   8181.png  885.png\n",
            "3112.png  384.png   5195.png  7122.png\t7233.png  771.png   8182.png  886.png\n",
            "3113.png  385.png   5196.png  7123.png\t7234.png  772.png   8183.png  887.png\n",
            "3114.png  386.png   5197.png  7124.png\t7235.png  773.png   8184.png  888.png\n",
            "3115.png  387.png   5198.png  7125.png\t7236.png  774.png   8185.png  889.png\n",
            "3116.png  388.png   5199.png  7126.png\t7237.png  775.png   8186.png  88.png\n",
            "3117.png  389.png   519.png   7127.png\t7238.png  776.png   8187.png  890.png\n",
            "3118.png  38.png    51.png    7128.png\t7239.png  777.png   8188.png  891.png\n",
            "3119.png  390.png   5200.png  7129.png\t723.png   778.png   8189.png  892.png\n",
            "311.png   391.png   5201.png  712.png\t7240.png  779.png   818.png   893.png\n",
            "3120.png  392.png   5202.png  7130.png\t7241.png  77.png    8190.png  894.png\n",
            "3121.png  393.png   520.png   7131.png\t7242.png  780.png   8191.png  895.png\n",
            "3122.png  394.png   521.png   7132.png\t7243.png  781.png   8192.png  896.png\n",
            "3123.png  395.png   522.png   7133.png\t7244.png  782.png   8193.png  897.png\n",
            "3124.png  396.png   523.png   7134.png\t7245.png  783.png   8194.png  898.png\n",
            "3125.png  397.png   524.png   7135.png\t7246.png  784.png   8195.png  899.png\n",
            "3126.png  398.png   525.png   7136.png\t7247.png  785.png   8196.png  89.png\n"
          ]
        }
      ],
      "source": [
        "!ls"
      ]
    },
    {
      "cell_type": "code",
      "source": [
        "!ls | wc -l"
      ],
      "metadata": {
        "colab": {
          "base_uri": "https://localhost:8080/"
        },
        "id": "T4LFKbJ59xD5",
        "outputId": "587bd8da-62c5-4bd5-a040-03331354b239"
      },
      "execution_count": 71,
      "outputs": [
        {
          "output_type": "stream",
          "name": "stdout",
          "text": [
            "984\n"
          ]
        }
      ]
    }
  ],
  "metadata": {
    "colab": {
      "provenance": []
    },
    "kernelspec": {
      "display_name": "Python 3",
      "name": "python3"
    },
    "language_info": {
      "name": "python"
    }
  },
  "nbformat": 4,
  "nbformat_minor": 0
}
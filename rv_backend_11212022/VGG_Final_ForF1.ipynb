{
  "cells": [
    {
      "cell_type": "markdown",
      "metadata": {
        "id": "eZJpClcxjJmS"
      },
      "source": [
        "## Subtyping Mitotic Figures (MF) and Mitotic-Like Figures (MLFs) "
      ]
    },
    {
      "cell_type": "markdown",
      "source": [
        "I. Imports"
      ],
      "metadata": {
        "id": "5oSeifJCWyt1"
      }
    },
    {
      "cell_type": "code",
      "execution_count": null,
      "metadata": {
        "id": "YLFU6UQSQDgp"
      },
      "outputs": [],
      "source": [
        "import tensorflow as tf\n",
        "from tensorflow.keras import datasets, layers, models\n",
        "from tensorflow.keras.layers import Dense\n",
        "from tensorflow.keras import optimizers\n",
        "import numpy as np\n",
        "from numpy.core.multiarray import packbits\n",
        "import pandas as pd\n",
        "import os\n",
        "from os import listdir\n",
        "import cv2\n",
        "from google.colab.patches import cv2_imshow\n",
        "from matplotlib import image as mpimg\n",
        "from matplotlib import pyplot as plt\n",
        "import matplotlib.pyplot as plt\n",
        "from sklearn.model_selection import train_test_split"
      ]
    },
    {
      "cell_type": "code",
      "execution_count": null,
      "metadata": {
        "colab": {
          "base_uri": "https://localhost:8080/"
        },
        "id": "Xr9D7ZdtXbjo",
        "outputId": "6fdd08a0-b672-45c9-9e25-533fc90527fc"
      },
      "outputs": [
        {
          "output_type": "stream",
          "name": "stdout",
          "text": [
            "Mounted at /content/drive/\n"
          ]
        }
      ],
      "source": [
        "#This cell is only relevant if using Google Colab and Google Drive.  It should not be run unless running this Jupyter Notebook in Google Colab.\n",
        "from google.colab import drive\n",
        "drive.mount('/content/drive/')"
      ]
    },
    {
      "cell_type": "code",
      "execution_count": null,
      "metadata": {
        "colab": {
          "base_uri": "https://localhost:8080/"
        },
        "id": "JrG0M0bSXsi6",
        "outputId": "8ea3ddeb-c292-4030-b1ef-2515dc419f0f"
      },
      "outputs": [
        {
          "output_type": "stream",
          "name": "stdout",
          "text": [
            "/content/drive/MyDrive\n"
          ]
        }
      ],
      "source": [
        "#This cell is only relevant if using Google Colab and Google Drive.  It should not be run unless running this Jupyter Notebook in Google Colab.\n",
        "%cd drive/MyDrive"
      ]
    },
    {
      "cell_type": "markdown",
      "metadata": {
        "id": "oi5WYmASjlU4"
      },
      "source": [
        "II. Data Upload and Data Cleaning"
      ]
    },
    {
      "cell_type": "code",
      "execution_count": null,
      "metadata": {
        "id": "XnQkrO2MXup_"
      },
      "outputs": [],
      "source": [
        "#Here, we read in FSL annotations and concatenate them into a single Pandas dataframe.\n",
        "data1 = pd.read_csv('fsl_subclassing/slide_2_updated/20221116-115200_ann_df_re-subcl_slide_no_2_all_64_MFs.csv')\n",
        "data2 = pd.read_csv('fsl_subclassing/slide_2/20221030-011825_annot_df_sorted_subclassed_MLFs_32_slide_no_2.csv')\n",
        "data3 =  pd.read_csv('fsl_subclassing/slide_3/20221112-015900_annot_df_sorted_subclassed_MLFs_72_slide_no_3.csv')\n",
        "data4 =  pd.read_csv('fsl_subclassing/slide_3/20221112-003547_annot_df_sorted_subclassed_slide_no_3_all_MFs.csv')\n",
        "data5 = pd.read_csv('fsl_subclassing/slide_5/20221112-230321_annot_df_sorted_subclassed_MLFs_100_slide_no_5.csv')\n",
        "data6 = pd.read_csv('fsl_subclassing/slide_5/221211-35722_ann_df_subcl_CORRECTED_sl_5_all_130_MFs.csv')\n",
        "data7 = pd.read_csv('fsl_subclassing/slide_7/20221115-150013_annot_df_sorted_subclassed_MLFs_160_slide_no_7.csv')\n",
        "data8 = pd.read_csv('fsl_subclassing/slide_7/20221115-150013_ann_df_subcl_slide_no_7_all_157_MFs.csv')\n",
        "data9 = pd.read_csv('fsl_subclassing/slide_8/20221116-092800_ann_df_subcl_slide_no_8_all_187_MFs.csv')\n",
        "data10 = pd.read_csv('fsl_subclassing/slide_8/20221116-092800_annot_df_sorted_subclassed_MLFs_100_slide_no_8.csv')\n",
        "data = pd.concat([data1, data2, data3, data4, data5, data6, data7, data8, data9,data10])\n"
      ]
    },
    {
      "cell_type": "code",
      "execution_count": null,
      "metadata": {
        "colab": {
          "base_uri": "https://localhost:8080/"
        },
        "id": "a3sHnetZJ-ae",
        "outputId": "47391467-5c7a-49a2-9b58-f53fcc464b02"
      },
      "outputs": [
        {
          "output_type": "stream",
          "name": "stdout",
          "text": [
            "/content/drive/MyDrive/MITOS_WSI_CMC/databases\n"
          ]
        }
      ],
      "source": [
        "#This cell is only relevant if using Google Colab and Google Drive.  It should not be run unless running this Jupyter Notebook in Google Colab.\n",
        "%cd MITOS_WSI_CMC/databases"
      ]
    },
    {
      "cell_type": "code",
      "execution_count": null,
      "metadata": {
        "id": "pxryeOpaYHFB"
      },
      "outputs": [],
      "source": [
        "#The FSL annotations have labels 9 and 42, which are equivalent, and 0, none of which should be used for training.  We drop these.\n",
        "data.head()\n",
        "data['subcl'] = data['subcl'].replace(42,9)\n",
        "data_filtered = data[data['subcl'] != 9]\n",
        "data = data_filtered.copy()\n",
        "data = data[data['subcl'] != 0]"
      ]
    },
    {
      "cell_type": "code",
      "execution_count": null,
      "metadata": {
        "colab": {
          "base_uri": "https://localhost:8080/"
        },
        "id": "yESnHiqlYKB_",
        "outputId": "f920f777-f453-4479-d1c0-a57e6ca3f4c5"
      },
      "outputs": [
        {
          "output_type": "execute_result",
          "data": {
            "text/plain": [
              "984"
            ]
          },
          "metadata": {},
          "execution_count": 7
        }
      ],
      "source": [
        "#The FSL subclass annotations extracted from the dataframe to train on.\n",
        "subclass_annotations = data.drop(['ctr', 'coord', 'guid'], axis = 1)\n",
        "subclass_annotations.head()\n",
        "len(subclass_annotations)"
      ]
    },
    {
      "cell_type": "code",
      "execution_count": null,
      "metadata": {
        "id": "iTfmnyObQJCC"
      },
      "outputs": [],
      "source": [
        "#Here, we load the images from the files we wrote during the patch extraction step.\n",
        "\n",
        "\n",
        "labels = subclass_annotations['subcl']\n",
        "imagelist = []\n",
        "\n",
        "# get the path/directory\n",
        "folder_dir = \"databases\"\n",
        "i = 0\n",
        "\n",
        "#We use a loop to read in images from each slide and name them with a filename convention that includes the slide in the ID.\n",
        "while (i<93):\n",
        "        temp = mpimg.imread('/content/drive/MyDrive/MITOS_WSI_CMC/databases/patchExtraction_final/' + str(2) + str(i) + str('.png'))\n",
        "        imagelist.append(temp)\n",
        "        i = i + 1\n",
        "i = 0\n",
        "while (i<155):\n",
        "        temp = mpimg.imread('/content/drive/MyDrive/MITOS_WSI_CMC/databases/patchExtraction_final/' + str(3) + str(i) + str('.png'))\n",
        "        imagelist.append(temp)\n",
        "        i = i + 1\n",
        "i = 0\n",
        "while (i<203):\n",
        "        temp = mpimg.imread('/content/drive/MyDrive/MITOS_WSI_CMC/databases/patchExtraction_final/' + str(5) + str(i) + str('.png'))\n",
        "        imagelist.append(temp)\n",
        "        i = i + 1\n",
        "i = 0\n",
        "while (i<303):\n",
        "        temp = mpimg.imread('/content/drive/MyDrive/MITOS_WSI_CMC/databases/patchExtraction_final/' + str(7) + str(i) + str('.png'))\n",
        "        imagelist.append(temp)\n",
        "        i = i + 1\n",
        "i = 0\n",
        "while (i<230):\n",
        "        temp = mpimg.imread('/content/drive/MyDrive/MITOS_WSI_CMC/databases/patchExtraction_final/' + str(8) + str(i) + str('.png'))\n",
        "        imagelist.append(temp)\n",
        "        i = i + 1\n"
      ]
    },
    {
      "cell_type": "code",
      "execution_count": null,
      "metadata": {
        "id": "OA1egc2gDHrm"
      },
      "outputs": [],
      "source": [
        "#Here, we collapse labels 3,4, and 5 into just label 5.  \n",
        "labels = np.asarray(labels)\n",
        "i = 0\n",
        "while i<len(labels):\n",
        "    if (np.equal(int(labels[i]),3)):\n",
        "       labels[i] = 5\n",
        "    elif (np.equal(int(labels[i]),4)):\n",
        "       labels[i] = 5\n",
        "    i = i + 1\n"
      ]
    },
    {
      "cell_type": "code",
      "execution_count": null,
      "metadata": {
        "id": "bhxYTm3DFLS2"
      },
      "outputs": [],
      "source": [
        "#Labels are manually one-hot encoded.\n",
        "i = 0\n",
        "ohe_labels = [0] * len(labels)\n",
        "while (i<len(labels)):\n",
        "      if (labels[i] == 5):\n",
        "         ohe_labels[i] = [0, 0, 0, 1]\n",
        "      elif (labels[i] == 6):\n",
        "         ohe_labels[i] = [0, 0, 1, 0]\n",
        "      elif (labels[i] == 7):\n",
        "         ohe_labels[i] = [0, 1, 0, 0]\n",
        "      elif (labels[i] == 8):\n",
        "         ohe_labels[i] = [1, 0, 0, 0]\n",
        "      i = i + 1"
      ]
    },
    {
      "cell_type": "code",
      "execution_count": null,
      "metadata": {
        "id": "oivKJPmdGLXq"
      },
      "outputs": [],
      "source": [
        "#Labels and images are put into \"X\" and \"y\" for the train-test split step.\n",
        "X = imagelist.copy()\n",
        "X = np.asarray(X)\n",
        "y = np.asarray(ohe_labels)\n"
      ]
    },
    {
      "cell_type": "code",
      "execution_count": null,
      "metadata": {
        "id": "yfeBgLKMkzqK"
      },
      "outputs": [],
      "source": [
        "X_train, X_test, y_train, y_test = train_test_split(X, y, stratify=y, test_size=0.3, random_state=42)"
      ]
    },
    {
      "cell_type": "markdown",
      "metadata": {
        "id": "4zR6rM-Zla6G"
      },
      "source": [
        "III. VGG16 for Classification"
      ]
    },
    {
      "cell_type": "code",
      "execution_count": null,
      "metadata": {
        "id": "9yXRd_cxE9iG",
        "colab": {
          "base_uri": "https://localhost:8080/"
        },
        "outputId": "96c7f915-e5f8-463d-df82-d536ad299e84"
      },
      "outputs": [
        {
          "output_type": "stream",
          "name": "stdout",
          "text": [
            "Downloading data from https://storage.googleapis.com/tensorflow/keras-applications/vgg16/vgg16_weights_tf_dim_ordering_tf_kernels_notop.h5\n",
            "58889256/58889256 [==============================] - 0s 0us/step\n"
          ]
        }
      ],
      "source": [
        "#VGG16 is initialized.\n",
        "\n",
        "vgg_model = tf.keras.applications.VGG16(include_top=False,weights=\"imagenet\",input_shape=(64,64,3),classifier_activation=\"relu\")\n",
        "\n",
        "\n"
      ]
    },
    {
      "cell_type": "code",
      "execution_count": null,
      "metadata": {
        "id": "HKTRDml2X6Ho"
      },
      "outputs": [],
      "source": [
        "#The sizes of the dense layers were chosen as multiples of the number of classes.\n",
        "model = models.Sequential()\n",
        "model.add(vgg_model)\n",
        "model.add(layers.Flatten())\n",
        "model.add(layers.Dense(4, activation='softmax'))\n"
      ]
    },
    {
      "cell_type": "code",
      "source": [
        "model.compile(optimizer=optimizers.SGD(learning_rate=0.0001,momentum=0.0,nesterov=False,name='SGD'), loss='categorical_crossentropy', metrics=['accuracy'])\n",
        "\n",
        "history = model.fit(X_train, y_train, batch_size=32, epochs=40, verbose=1, validation_data=(X_test , y_test))"
      ],
      "metadata": {
        "colab": {
          "base_uri": "https://localhost:8080/"
        },
        "id": "HHq0bEsiQDyD",
        "outputId": "bdd002b8-b0bc-4fc0-f306-d8cce142c79c"
      },
      "execution_count": null,
      "outputs": [
        {
          "output_type": "stream",
          "name": "stdout",
          "text": [
            "Epoch 1/40\n",
            "22/22 [==============================] - 140s 6s/step - loss: 1.6857 - accuracy: 0.2311 - val_loss: 1.3837 - val_accuracy: 0.2568\n",
            "Epoch 2/40\n",
            "22/22 [==============================] - 137s 6s/step - loss: 1.3113 - accuracy: 0.4041 - val_loss: 1.2813 - val_accuracy: 0.4020\n",
            "Epoch 3/40\n",
            "22/22 [==============================] - 140s 6s/step - loss: 1.2572 - accuracy: 0.4608 - val_loss: 1.2584 - val_accuracy: 0.4392\n",
            "Epoch 4/40\n",
            "22/22 [==============================] - 139s 6s/step - loss: 1.2356 - accuracy: 0.4651 - val_loss: 1.2468 - val_accuracy: 0.4595\n",
            "Epoch 5/40\n",
            "22/22 [==============================] - 137s 6s/step - loss: 1.2204 - accuracy: 0.4666 - val_loss: 1.2374 - val_accuracy: 0.4595\n",
            "Epoch 6/40\n",
            "22/22 [==============================] - 138s 6s/step - loss: 1.2075 - accuracy: 0.4767 - val_loss: 1.2303 - val_accuracy: 0.4595\n",
            "Epoch 7/40\n",
            "22/22 [==============================] - 138s 6s/step - loss: 1.1952 - accuracy: 0.4797 - val_loss: 1.2239 - val_accuracy: 0.4561\n",
            "Epoch 8/40\n",
            "22/22 [==============================] - 136s 6s/step - loss: 1.1843 - accuracy: 0.4898 - val_loss: 1.2185 - val_accuracy: 0.4561\n",
            "Epoch 9/40\n",
            "22/22 [==============================] - 137s 6s/step - loss: 1.1732 - accuracy: 0.4942 - val_loss: 1.2128 - val_accuracy: 0.4696\n",
            "Epoch 10/40\n",
            "22/22 [==============================] - 139s 6s/step - loss: 1.1630 - accuracy: 0.5044 - val_loss: 1.2072 - val_accuracy: 0.4764\n",
            "Epoch 11/40\n",
            "22/22 [==============================] - 138s 6s/step - loss: 1.1525 - accuracy: 0.5131 - val_loss: 1.2022 - val_accuracy: 0.4899\n",
            "Epoch 12/40\n",
            "22/22 [==============================] - 138s 6s/step - loss: 1.1437 - accuracy: 0.5145 - val_loss: 1.1976 - val_accuracy: 0.4899\n",
            "Epoch 13/40\n",
            "22/22 [==============================] - 141s 6s/step - loss: 1.1340 - accuracy: 0.5189 - val_loss: 1.1929 - val_accuracy: 0.4932\n",
            "Epoch 14/40\n",
            "22/22 [==============================] - 136s 6s/step - loss: 1.1266 - accuracy: 0.5247 - val_loss: 1.1887 - val_accuracy: 0.4932\n",
            "Epoch 15/40\n",
            "22/22 [==============================] - 137s 6s/step - loss: 1.1168 - accuracy: 0.5218 - val_loss: 1.1842 - val_accuracy: 0.4899\n",
            "Epoch 16/40\n",
            "22/22 [==============================] - 136s 6s/step - loss: 1.1078 - accuracy: 0.5233 - val_loss: 1.1800 - val_accuracy: 0.4966\n",
            "Epoch 17/40\n",
            "22/22 [==============================] - 135s 6s/step - loss: 1.0999 - accuracy: 0.5262 - val_loss: 1.1751 - val_accuracy: 0.4865\n",
            "Epoch 18/40\n",
            "22/22 [==============================] - 137s 6s/step - loss: 1.0908 - accuracy: 0.5334 - val_loss: 1.1727 - val_accuracy: 0.4797\n",
            "Epoch 19/40\n",
            "22/22 [==============================] - 136s 6s/step - loss: 1.0847 - accuracy: 0.5334 - val_loss: 1.1676 - val_accuracy: 0.4899\n",
            "Epoch 20/40\n",
            "22/22 [==============================] - 134s 6s/step - loss: 1.0742 - accuracy: 0.5378 - val_loss: 1.1637 - val_accuracy: 0.5000\n",
            "Epoch 21/40\n",
            "22/22 [==============================] - 136s 6s/step - loss: 1.0674 - accuracy: 0.5392 - val_loss: 1.1637 - val_accuracy: 0.4628\n",
            "Epoch 22/40\n",
            "22/22 [==============================] - 136s 6s/step - loss: 1.0599 - accuracy: 0.5523 - val_loss: 1.1579 - val_accuracy: 0.5000\n",
            "Epoch 23/40\n",
            "22/22 [==============================] - 134s 6s/step - loss: 1.0516 - accuracy: 0.5596 - val_loss: 1.1536 - val_accuracy: 0.4966\n",
            "Epoch 24/40\n",
            "22/22 [==============================] - 141s 6s/step - loss: 1.0447 - accuracy: 0.5538 - val_loss: 1.1502 - val_accuracy: 0.4764\n",
            "Epoch 25/40\n",
            "22/22 [==============================] - 137s 6s/step - loss: 1.0370 - accuracy: 0.5567 - val_loss: 1.1471 - val_accuracy: 0.4932\n",
            "Epoch 26/40\n",
            "22/22 [==============================] - 135s 6s/step - loss: 1.0301 - accuracy: 0.5538 - val_loss: 1.1433 - val_accuracy: 0.5034\n",
            "Epoch 27/40\n",
            "22/22 [==============================] - 136s 6s/step - loss: 1.0226 - accuracy: 0.5640 - val_loss: 1.1409 - val_accuracy: 0.5034\n",
            "Epoch 28/40\n",
            "22/22 [==============================] - 137s 6s/step - loss: 1.0132 - accuracy: 0.5741 - val_loss: 1.1415 - val_accuracy: 0.4899\n",
            "Epoch 29/40\n",
            "22/22 [==============================] - 138s 6s/step - loss: 1.0079 - accuracy: 0.5756 - val_loss: 1.1374 - val_accuracy: 0.4966\n",
            "Epoch 30/40\n",
            "22/22 [==============================] - 135s 6s/step - loss: 1.0016 - accuracy: 0.5770 - val_loss: 1.1329 - val_accuracy: 0.5135\n",
            "Epoch 31/40\n",
            "22/22 [==============================] - 138s 6s/step - loss: 0.9922 - accuracy: 0.5843 - val_loss: 1.1294 - val_accuracy: 0.5338\n",
            "Epoch 32/40\n",
            "22/22 [==============================] - 139s 6s/step - loss: 0.9848 - accuracy: 0.5872 - val_loss: 1.1282 - val_accuracy: 0.5270\n",
            "Epoch 33/40\n",
            "22/22 [==============================] - 138s 6s/step - loss: 0.9763 - accuracy: 0.5828 - val_loss: 1.1292 - val_accuracy: 0.5034\n",
            "Epoch 34/40\n",
            "22/22 [==============================] - 138s 6s/step - loss: 0.9709 - accuracy: 0.5988 - val_loss: 1.1220 - val_accuracy: 0.5270\n",
            "Epoch 35/40\n",
            "22/22 [==============================] - 140s 6s/step - loss: 0.9615 - accuracy: 0.5872 - val_loss: 1.1207 - val_accuracy: 0.5203\n",
            "Epoch 36/40\n",
            "22/22 [==============================] - 135s 6s/step - loss: 0.9531 - accuracy: 0.5930 - val_loss: 1.1180 - val_accuracy: 0.5203\n",
            "Epoch 37/40\n",
            "22/22 [==============================] - 137s 6s/step - loss: 0.9470 - accuracy: 0.6017 - val_loss: 1.1143 - val_accuracy: 0.5338\n",
            "Epoch 38/40\n",
            "22/22 [==============================] - 137s 6s/step - loss: 0.9380 - accuracy: 0.6032 - val_loss: 1.1193 - val_accuracy: 0.5034\n",
            "Epoch 39/40\n",
            "22/22 [==============================] - 138s 6s/step - loss: 0.9297 - accuracy: 0.6163 - val_loss: 1.1136 - val_accuracy: 0.5338\n",
            "Epoch 40/40\n",
            "22/22 [==============================] - 137s 6s/step - loss: 0.9235 - accuracy: 0.6105 - val_loss: 1.1088 - val_accuracy: 0.5439\n"
          ]
        }
      ]
    },
    {
      "cell_type": "markdown",
      "source": [
        "V. Saving the Model Weights in .h5 format"
      ],
      "metadata": {
        "id": "3lHsPOyzW8xd"
      }
    },
    {
      "cell_type": "code",
      "source": [
        "model.save('production_model.h5')"
      ],
      "metadata": {
        "id": "is4c64s8YX1X"
      },
      "execution_count": null,
      "outputs": []
    },
    {
      "cell_type": "markdown",
      "source": [
        "VI. Evaluating the Model "
      ],
      "metadata": {
        "id": "65ba2addNdIn"
      }
    },
    {
      "cell_type": "code",
      "source": [
        "\n",
        "y_pred = model.predict(X_test)\n",
        "\n"
      ],
      "metadata": {
        "colab": {
          "base_uri": "https://localhost:8080/"
        },
        "id": "GqYYFtikNcZi",
        "outputId": "f16d2ee4-063c-4a71-868e-fa709a9a0eb1"
      },
      "execution_count": null,
      "outputs": [
        {
          "output_type": "stream",
          "name": "stdout",
          "text": [
            "10/10 [==============================] - 13s 1s/step\n"
          ]
        }
      ]
    },
    {
      "cell_type": "code",
      "source": [
        "y_pred_list = []\n",
        "for elt in y_pred:\n",
        "    y_pred_list.append(np.argmax(elt) + 5)"
      ],
      "metadata": {
        "id": "1E7LEvLuOem0"
      },
      "execution_count": null,
      "outputs": []
    },
    {
      "cell_type": "code",
      "source": [
        "y_test_list = []\n",
        "for elt in y_test:\n",
        "    y_test_list.append(np.argmax(elt) + 5)"
      ],
      "metadata": {
        "id": "O09U64lyPDI-"
      },
      "execution_count": null,
      "outputs": []
    },
    {
      "cell_type": "code",
      "source": [
        "#Here, we try to find a confusion matrix exclusively for the label of 7\n",
        "i = 0\n",
        "true_positive = 0\n",
        "false_positive = 0\n",
        "true_negative = 0\n",
        "false_negative = 0\n",
        "while (i<len(y_pred_list)):\n",
        "  if (y_pred_list[i] == 7) and (y_test_list[i] == 7):\n",
        "    true_positive = true_positive + 1\n",
        "  elif (y_pred_list[i] == 7) and (y_test_list[i] != 7):\n",
        "    false_positive = false_positive + 1\n",
        "  elif (y_pred_list[i] != 7) and (y_test_list[i] == 7):\n",
        "    false_negative = false_negative + 1\n",
        "  elif (y_pred_list[i] != 7) and (y_test_list[i] != 7):\n",
        "    true_negative = true_negative + 1\n",
        "  i = i  + 1\n",
        "print(\"True positive : \" + str(true_positive))\n",
        "print(\"False positive : \" + str(false_positive))\n",
        "print(\"True negative : \" + str(true_negative))\n",
        "print(\"False negative : \" + str(false_negative))\n",
        "     "
      ],
      "metadata": {
        "colab": {
          "base_uri": "https://localhost:8080/"
        },
        "id": "ZG5vLX5tPIZy",
        "outputId": "5ff9b4e9-216a-4d6b-879c-463fcef355b8"
      },
      "execution_count": null,
      "outputs": [
        {
          "output_type": "stream",
          "name": "stdout",
          "text": [
            "True positive : 2\n",
            "False positive : 3\n",
            "True negative : 268\n",
            "False negative : 23\n"
          ]
        }
      ]
    },
    {
      "cell_type": "code",
      "source": [
        "#Here, we try to find a confusion matrix exclusively for the label of 8\n",
        "i = 0\n",
        "true_positive = 0\n",
        "false_positive = 0\n",
        "true_negative = 0\n",
        "false_negative = 0\n",
        "while (i<len(y_pred_list)):\n",
        "  if (y_pred_list[i] == 8) and (y_test_list[i] == 8):\n",
        "    true_positive = true_positive + 1\n",
        "  elif (y_pred_list[i] == 8) and (y_test_list[i] != 8):\n",
        "    false_positive = false_positive + 1\n",
        "  elif (y_pred_list[i] != 8) and (y_test_list[i] == 8):\n",
        "    false_negative = false_negative + 1\n",
        "  elif (y_pred_list[i] != 8) and (y_test_list[i] != 8):\n",
        "    true_negative = true_negative + 1\n",
        "  i = i  + 1\n",
        "print(\"True positive : \" + str(true_positive))\n",
        "print(\"False positive : \" + str(false_positive))\n",
        "print(\"True negative : \" + str(true_negative))\n",
        "print(\"False negative : \" + str(false_negative))"
      ],
      "metadata": {
        "colab": {
          "base_uri": "https://localhost:8080/"
        },
        "id": "prF4SgvI8A8S",
        "outputId": "abc10d38-7649-438a-d0bf-9d8337fec27c"
      },
      "execution_count": null,
      "outputs": [
        {
          "output_type": "stream",
          "name": "stdout",
          "text": [
            "True positive : 20\n",
            "False positive : 24\n",
            "True negative : 209\n",
            "False negative : 43\n"
          ]
        }
      ]
    },
    {
      "cell_type": "code",
      "source": [
        "#Here, we try to find a confusion matrix exclusively for the label of 6\n",
        "i = 0\n",
        "true_positive = 0\n",
        "false_positive = 0\n",
        "true_negative = 0\n",
        "false_negative = 0\n",
        "while (i<len(y_pred_list)):\n",
        "  if (y_pred_list[i] == 6) and (y_test_list[i] == 6):\n",
        "    true_positive = true_positive + 1\n",
        "  elif (y_pred_list[i] == 6) and (y_test_list[i] != 6):\n",
        "    false_positive = false_positive + 1\n",
        "  elif (y_pred_list[i] != 6) and (y_test_list[i] == 6):\n",
        "    false_negative = false_negative + 1\n",
        "  elif (y_pred_list[i] != 6) and (y_test_list[i] != 6):\n",
        "    true_negative = true_negative + 1\n",
        "  i = i  + 1\n",
        "print(\"True positive : \" + str(true_positive))\n",
        "print(\"False positive : \" + str(false_positive))\n",
        "print(\"True negative : \" + str(true_negative))\n",
        "print(\"False negative : \" + str(false_negative))"
      ],
      "metadata": {
        "colab": {
          "base_uri": "https://localhost:8080/"
        },
        "id": "Lhww8x1L8F3m",
        "outputId": "77fce831-2801-4fc6-84ca-b7fcae173b90"
      },
      "execution_count": null,
      "outputs": [
        {
          "output_type": "stream",
          "name": "stdout",
          "text": [
            "True positive : 22\n",
            "False positive : 33\n",
            "True negative : 195\n",
            "False negative : 46\n"
          ]
        }
      ]
    },
    {
      "cell_type": "code",
      "source": [
        "#Here, we try to find a confusion matrix exclusively for the label of 5\n",
        "i = 0\n",
        "true_positive = 0\n",
        "false_positive = 0\n",
        "true_negative = 0\n",
        "false_negative = 0\n",
        "while (i<len(y_pred_list)):\n",
        "  if (y_pred_list[i] == 5) and (y_test_list[i] == 5):\n",
        "    true_positive = true_positive + 1\n",
        "  elif (y_pred_list[i] == 5) and (y_test_list[i] != 5):\n",
        "    false_positive = false_positive + 1\n",
        "  elif (y_pred_list[i] != 5) and (y_test_list[i] == 5):\n",
        "    false_negative = false_negative + 1\n",
        "  elif (y_pred_list[i] != 5) and (y_test_list[i] != 5):\n",
        "    true_negative = true_negative + 1\n",
        "  i = i  + 1\n",
        "print(\"True positive : \" + str(true_positive))\n",
        "print(\"False positive : \" + str(false_positive))\n",
        "print(\"True negative : \" + str(true_negative))\n",
        "print(\"False negative : \" + str(false_negative))"
      ],
      "metadata": {
        "colab": {
          "base_uri": "https://localhost:8080/"
        },
        "id": "QevWdIqK8IvN",
        "outputId": "66a43248-ef01-4ecf-ec85-ecf1d672d7e7"
      },
      "execution_count": null,
      "outputs": [
        {
          "output_type": "stream",
          "name": "stdout",
          "text": [
            "True positive : 117\n",
            "False positive : 75\n",
            "True negative : 81\n",
            "False negative : 23\n"
          ]
        }
      ]
    },
    {
      "cell_type": "code",
      "source": [
        "y_pred_df = pd.DataFrame(y_pred)\n",
        "y_test_df = pd.DataFrame(y_test)"
      ],
      "metadata": {
        "id": "4wJ3H2-1p18K"
      },
      "execution_count": null,
      "outputs": []
    },
    {
      "cell_type": "code",
      "source": [
        "y_pred_df.to_csv('vgg_label_predictions.csv')"
      ],
      "metadata": {
        "id": "nustwHTOrAi2"
      },
      "execution_count": null,
      "outputs": []
    },
    {
      "cell_type": "code",
      "source": [
        "y_test_df.to_csv('vgg_test_data.csv')"
      ],
      "metadata": {
        "id": "Ujy4jpNVrLJE"
      },
      "execution_count": null,
      "outputs": []
    },
    {
      "cell_type": "code",
      "source": [
        "raw_accuracy = 0\n",
        "i = 0\n",
        "while (i < len(y_pred_list)):\n",
        "      if (y_pred_list[i] == y_test_list[i]):\n",
        "         raw_accuracy = raw_accuracy + 1\n",
        "      i = i + 1\n",
        "print(raw_accuracy/len(y_pred_list))\n"
      ],
      "metadata": {
        "colab": {
          "base_uri": "https://localhost:8080/"
        },
        "id": "JEBkfb_-rVJc",
        "outputId": "c448dc09-32de-4717-85b0-046898ff68e0"
      },
      "execution_count": null,
      "outputs": [
        {
          "output_type": "stream",
          "name": "stdout",
          "text": [
            "0.543918918918919\n"
          ]
        }
      ]
    }
  ],
  "metadata": {
    "colab": {
      "provenance": []
    },
    "kernelspec": {
      "display_name": "Python 3",
      "name": "python3"
    },
    "language_info": {
      "name": "python"
    }
  },
  "nbformat": 4,
  "nbformat_minor": 0
}
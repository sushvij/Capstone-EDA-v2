{
  "cells": [
    {
      "cell_type": "markdown",
      "metadata": {
        "id": "eZJpClcxjJmS"
      },
      "source": [
        "## Subtyping Mitotic Figures (MF) and Mitotic-Like Figures (MLFs) "
      ]
    },
    {
      "cell_type": "code",
      "execution_count": 1,
      "metadata": {
        "id": "YLFU6UQSQDgp"
      },
      "outputs": [],
      "source": [
        "import tensorflow as tf\n",
        "from tensorflow.keras import datasets, layers, models\n",
        "from tensorflow.keras.layers import Dense\n",
        "from tensorflow.keras import optimizers\n",
        "import numpy as np\n",
        "from numpy.core.multiarray import packbits\n",
        "import pandas as pd\n",
        "import os\n",
        "from os import listdir\n",
        "import cv2\n",
        "from google.colab.patches import cv2_imshow\n",
        "from matplotlib import image as mpimg\n",
        "from matplotlib import pyplot as plt\n",
        "import matplotlib.pyplot as plt\n",
        "from sklearn.model_selection import train_test_split"
      ]
    },
    {
      "cell_type": "code",
      "execution_count": 25,
      "metadata": {
        "colab": {
          "base_uri": "https://localhost:8080/"
        },
        "id": "Xr9D7ZdtXbjo",
        "outputId": "43bd6c6d-fc2f-453e-9e61-57762f6a1da1"
      },
      "outputs": [
        {
          "output_type": "stream",
          "name": "stdout",
          "text": [
            "Drive already mounted at /content/drive/; to attempt to forcibly remount, call drive.mount(\"/content/drive/\", force_remount=True).\n"
          ]
        }
      ],
      "source": [
        "#This cell is only relevant if using Google Colab and Google Drive.  It should not be run unless running this Jupyter Notebook in Google Colab.\n",
        "from google.colab import drive\n",
        "drive.mount('/content/drive/')"
      ]
    },
    {
      "cell_type": "code",
      "execution_count": 29,
      "metadata": {
        "colab": {
          "base_uri": "https://localhost:8080/"
        },
        "id": "JrG0M0bSXsi6",
        "outputId": "78b08b95-7712-418f-fea1-24abe2dbc17c"
      },
      "outputs": [
        {
          "output_type": "stream",
          "name": "stdout",
          "text": [
            "[Errno 2] No such file or directory: 'drive/MyDrive'\n",
            "/content/drive/My Drive/MITOS_WSI_CMC\n"
          ]
        }
      ],
      "source": [
        "#This cell is only relevant if using Google Colab and Google Drive.  It should not be run unless running this Jupyter Notebook in Google Colab.\n",
        "%cd drive/MyDrive"
      ]
    },
    {
      "cell_type": "markdown",
      "metadata": {
        "id": "oi5WYmASjlU4"
      },
      "source": [
        "Data Upload and Data Cleaning"
      ]
    },
    {
      "cell_type": "code",
      "execution_count": 33,
      "metadata": {
        "id": "XnQkrO2MXup_"
      },
      "outputs": [],
      "source": [
        "#Here, we read in FSL annotations and concatenate them into a single Pandas dataframe.\n",
        "data1 = pd.read_csv('fsl_subclassing/slide_2_updated/20221116-115200_ann_df_re-subcl_slide_no_2_all_64_MFs.csv')\n",
        "data2 = pd.read_csv('fsl_subclassing/slide_2/20221030-011825_annot_df_sorted_subclassed_MLFs_32_slide_no_2.csv')\n",
        "data3 =  pd.read_csv('fsl_subclassing/slide_3/20221112-015900_annot_df_sorted_subclassed_MLFs_72_slide_no_3.csv')\n",
        "data4 =  pd.read_csv('fsl_subclassing/slide_3/20221112-003547_annot_df_sorted_subclassed_slide_no_3_all_MFs.csv')\n",
        "data5 = pd.read_csv('fsl_subclassing/slide_5/20221112-230321_annot_df_sorted_subclassed_MLFs_100_slide_no_5.csv')\n",
        "data6 = pd.read_csv('fsl_subclassing/slide_5/221211-35722_ann_df_subcl_CORRECTED_sl_5_all_130_MFs.csv')\n",
        "data7 = pd.read_csv('fsl_subclassing/slide_7/20221115-150013_annot_df_sorted_subclassed_MLFs_160_slide_no_7.csv')\n",
        "data8 = pd.read_csv('fsl_subclassing/slide_7/20221115-150013_ann_df_subcl_slide_no_7_all_157_MFs.csv')\n",
        "data9 = pd.read_csv('fsl_subclassing/slide_8/20221116-092800_ann_df_subcl_slide_no_8_all_187_MFs.csv')\n",
        "data10 = pd.read_csv('fsl_subclassing/slide_8/20221116-092800_annot_df_sorted_subclassed_MLFs_100_slide_no_8.csv')\n",
        "data = pd.concat([data1, data2, data3, data4, data5, data6, data7, data8, data9,data10])\n"
      ]
    },
    {
      "cell_type": "code",
      "execution_count": 5,
      "metadata": {
        "colab": {
          "base_uri": "https://localhost:8080/"
        },
        "id": "a3sHnetZJ-ae",
        "outputId": "b197c0f2-b0ed-4765-bd95-9f183130457e"
      },
      "outputs": [
        {
          "output_type": "stream",
          "name": "stdout",
          "text": [
            "/content/drive/MyDrive/MITOS_WSI_CMC/databases\n"
          ]
        }
      ],
      "source": [
        "#This cell is only relevant if using Google Colab and Google Drive.  It should not be run unless running this Jupyter Notebook in Google Colab.\n",
        "%cd MITOS_WSI_CMC/databases"
      ]
    },
    {
      "cell_type": "code",
      "execution_count": 35,
      "metadata": {
        "id": "pxryeOpaYHFB"
      },
      "outputs": [],
      "source": [
        "#The FSL annotations have labels 9 and 42, which are equivalent, and 0, none of which should be used for training.  We drop these.\n",
        "data.head()\n",
        "data['subcl'] = data['subcl'].replace(42,9)\n",
        "data_filtered = data[data['subcl'] != 9]\n",
        "data = data_filtered.copy()\n",
        "data = data[data['subcl'] != 0]"
      ]
    },
    {
      "cell_type": "code",
      "execution_count": 37,
      "metadata": {
        "colab": {
          "base_uri": "https://localhost:8080/"
        },
        "id": "yESnHiqlYKB_",
        "outputId": "9e113fa5-3525-4755-b50e-607d8df20a91"
      },
      "outputs": [
        {
          "output_type": "execute_result",
          "data": {
            "text/plain": [
              "984"
            ]
          },
          "metadata": {},
          "execution_count": 37
        }
      ],
      "source": [
        "#The FSL subclass annotations extracted from the dataframe to train on.\n",
        "subclass_annotations = data.drop(['ctr', 'coord', 'guid'], axis = 1)\n",
        "subclass_annotations.head()\n",
        "len(subclass_annotations)"
      ]
    },
    {
      "cell_type": "code",
      "execution_count": 43,
      "metadata": {
        "colab": {
          "base_uri": "https://localhost:8080/",
          "height": 268
        },
        "id": "iTfmnyObQJCC",
        "outputId": "01fe8a67-f767-4ed3-efb2-14023c34deaa"
      },
      "outputs": [
        {
          "output_type": "display_data",
          "data": {
            "text/plain": [
              "<Figure size 432x288 with 1 Axes>"
            ],
            "image/png": "[encoded data removed]"
          },
          "metadata": {
            "needs_background": "light"
          }
        }
      ],
      "source": [
        "#Here, we load the images from the files we wrote during the patch extraction step.\n",
        "\n",
        "labels = subclass_annotations['subcl']\n",
        "imagelist = []\n",
        "\n",
        "# get the path/directory\n",
        "folder_dir = \"databases\"\n",
        "i = 0\n",
        "while (i<93):\n",
        "        temp = mpimg.imread('/content/drive/MyDrive/MITOS_WSI_CMC/databases/patchExtraction_final/' + str(2) + str(i) + str('.png'))\n",
        "        plt.imshow(temp)\n",
        "        #temp = cv2.copyMakeBorder(temp, 87, 87, 87, 87, cv2.BORDER_CONSTANT)\n",
        "        plt.imshow(temp)\n",
        "        imagelist.append(temp)\n",
        "        i = i + 1\n",
        "i = 0\n",
        "while (i<155):\n",
        "        temp = mpimg.imread('/content/drive/MyDrive/MITOS_WSI_CMC/databases/patchExtraction_final/' + str(3) + str(i) + str('.png'))\n",
        "        plt.imshow(temp)\n",
        "        #temp = cv2.copyMakeBorder(temp, 87, 87, 87, 87, cv2.BORDER_CONSTANT)\n",
        "        plt.imshow(temp)\n",
        "        imagelist.append(temp)\n",
        "        i = i + 1\n",
        "i = 0\n",
        "while (i<203):\n",
        "        temp = mpimg.imread('/content/drive/MyDrive/MITOS_WSI_CMC/databases/patchExtraction_final/' + str(5) + str(i) + str('.png'))\n",
        "        plt.imshow(temp)\n",
        "        #temp = cv2.copyMakeBorder(temp, 87, 87, 87, 87, cv2.BORDER_CONSTANT)\n",
        "        plt.imshow(temp)\n",
        "        imagelist.append(temp)\n",
        "        i = i + 1\n",
        "i = 0\n",
        "while (i<303):\n",
        "        temp = mpimg.imread('/content/drive/MyDrive/MITOS_WSI_CMC/databases/patchExtraction_final/' + str(7) + str(i) + str('.png'))\n",
        "        plt.imshow(temp)\n",
        "        #temp = cv2.copyMakeBorder(temp, 87, 87, 87, 87, cv2.BORDER_CONSTANT)\n",
        "        plt.imshow(temp)\n",
        "        imagelist.append(temp)\n",
        "        i = i + 1\n",
        "i = 0\n",
        "while (i<230):\n",
        "        temp = mpimg.imread('/content/drive/MyDrive/MITOS_WSI_CMC/databases/patchExtraction_final/' + str(8) + str(i) + str('.png'))\n",
        "        plt.imshow(temp)\n",
        "        #temp = cv2.copyMakeBorder(temp, 87, 87, 87, 87, cv2.BORDER_CONSTANT)\n",
        "        plt.imshow(temp)\n",
        "        imagelist.append(temp)\n",
        "        i = i + 1\n"
      ]
    },
    {
      "cell_type": "code",
      "execution_count": 45,
      "metadata": {
        "id": "OA1egc2gDHrm"
      },
      "outputs": [],
      "source": [
        "#Here, we collapse labels 3,4, and 5 into just label 5.  \n",
        "labels = np.asarray(labels)\n",
        "i = 0\n",
        "while i<len(labels):\n",
        "    if (np.equal(int(labels[i]),3)):\n",
        "       labels[i] = 5\n",
        "    elif (np.equal(int(labels[i]),4)):\n",
        "       labels[i] = 5\n",
        "    i = i + 1\n"
      ]
    },
    {
      "cell_type": "code",
      "execution_count": 46,
      "metadata": {
        "id": "bhxYTm3DFLS2"
      },
      "outputs": [],
      "source": [
        "#Labels are manually one-hot encoded.\n",
        "i = 0\n",
        "ohe_labels = [0] * len(labels)\n",
        "while (i<len(labels)):\n",
        "      if (labels[i] == 5):\n",
        "         ohe_labels[i] = [0, 0, 0, 1]\n",
        "      elif (labels[i] == 6):\n",
        "         ohe_labels[i] = [0, 0, 1, 0]\n",
        "      elif (labels[i] == 7):\n",
        "         ohe_labels[i] = [0, 1, 0, 0]\n",
        "      elif (labels[i] == 8):\n",
        "         ohe_labels[i] = [1, 0, 0, 0]\n",
        "      i = i + 1"
      ]
    },
    {
      "cell_type": "code",
      "execution_count": 47,
      "metadata": {
        "id": "oivKJPmdGLXq"
      },
      "outputs": [],
      "source": [
        "#Labels and images are put into \"X\" and \"y\" for the train-test split step.\n",
        "X = imagelist.copy()\n",
        "X = np.asarray(X)\n",
        "y = np.asarray(ohe_labels)\n"
      ]
    },
    {
      "cell_type": "code",
      "execution_count": 56,
      "metadata": {
        "id": "yfeBgLKMkzqK"
      },
      "outputs": [],
      "source": [
        "X_train, X_test, y_train, y_test = train_test_split(X, y, stratify=y, test_size=0.3, random_state=42)"
      ]
    },
    {
      "cell_type": "markdown",
      "metadata": {
        "id": "4zR6rM-Zla6G"
      },
      "source": [
        "III. VGG16 for Classification"
      ]
    },
    {
      "cell_type": "code",
      "execution_count": 66,
      "metadata": {
        "id": "9yXRd_cxE9iG"
      },
      "outputs": [],
      "source": [
        "#VGG16 is initialized.\n",
        "\n",
        "vgg_model = tf.keras.applications.VGG16(include_top=False,weights=\"imagenet\",input_shape=(64,64,3),classifier_activation=\"relu\")\n",
        "\n",
        "\n"
      ]
    },
    {
      "cell_type": "code",
      "execution_count": 67,
      "metadata": {
        "id": "HKTRDml2X6Ho"
      },
      "outputs": [],
      "source": [
        "#The sizes of the dense layers were chosen as multiples of the number of classes.\n",
        "model = models.Sequential()\n",
        "model.add(vgg_model)\n",
        "model.add(layers.Flatten())\n",
        "model.add(layers.Dense(4, activation='softmax'))\n"
      ]
    },
    {
      "cell_type": "code",
      "source": [
        "model.compile(optimizer=optimizers.SGD(learning_rate=0.0001,momentum=0.0,nesterov=False,name='SGD'), loss='categorical_crossentropy', metrics=['accuracy'])\n",
        "\n",
        "history = model.fit(X_train, y_train, batch_size=32, epochs=50, verbose=1, validation_data=(X_test , y_test))"
      ],
      "metadata": {
        "colab": {
          "base_uri": "https://localhost:8080/",
          "height": 1000
        },
        "id": "HHq0bEsiQDyD",
        "outputId": "02658ef6-3340-44b7-9309-8adf03688337"
      },
      "execution_count": 68,
      "outputs": [
        {
          "output_type": "stream",
          "name": "stdout",
          "text": [
            "Epoch 1/50\n",
            "22/22 [==============================] - 150s 7s/step - loss: 1.3907 - accuracy: 0.2936 - val_loss: 1.3069 - val_accuracy: 0.4088\n",
            "Epoch 2/50\n",
            "22/22 [==============================] - 150s 7s/step - loss: 1.2861 - accuracy: 0.4201 - val_loss: 1.2681 - val_accuracy: 0.4189\n",
            "Epoch 3/50\n",
            "22/22 [==============================] - 145s 7s/step - loss: 1.2575 - accuracy: 0.4520 - val_loss: 1.2522 - val_accuracy: 0.4358\n",
            "Epoch 4/50\n",
            "22/22 [==============================] - 155s 7s/step - loss: 1.2390 - accuracy: 0.4578 - val_loss: 1.2424 - val_accuracy: 0.4324\n",
            "Epoch 5/50\n",
            "22/22 [==============================] - 149s 7s/step - loss: 1.2233 - accuracy: 0.4637 - val_loss: 1.2323 - val_accuracy: 0.4459\n",
            "Epoch 6/50\n",
            "22/22 [==============================] - 148s 7s/step - loss: 1.2089 - accuracy: 0.4695 - val_loss: 1.2264 - val_accuracy: 0.4561\n",
            "Epoch 7/50\n",
            "22/22 [==============================] - 153s 7s/step - loss: 1.1956 - accuracy: 0.4709 - val_loss: 1.2198 - val_accuracy: 0.4561\n",
            "Epoch 8/50\n",
            "22/22 [==============================] - 146s 7s/step - loss: 1.1851 - accuracy: 0.4767 - val_loss: 1.2138 - val_accuracy: 0.4595\n",
            "Epoch 9/50\n",
            "22/22 [==============================] - 146s 7s/step - loss: 1.1737 - accuracy: 0.4797 - val_loss: 1.2096 - val_accuracy: 0.4662\n",
            "Epoch 10/50\n",
            "22/22 [==============================] - 147s 7s/step - loss: 1.1623 - accuracy: 0.4898 - val_loss: 1.2058 - val_accuracy: 0.4595\n",
            "Epoch 11/50\n",
            "22/22 [==============================] - 147s 7s/step - loss: 1.1525 - accuracy: 0.4971 - val_loss: 1.1994 - val_accuracy: 0.4628\n",
            "Epoch 12/50\n",
            "22/22 [==============================] - 144s 7s/step - loss: 1.1422 - accuracy: 0.4942 - val_loss: 1.1959 - val_accuracy: 0.4595\n",
            "Epoch 13/50\n",
            "22/22 [==============================] - 146s 7s/step - loss: 1.1331 - accuracy: 0.5015 - val_loss: 1.1921 - val_accuracy: 0.4696\n",
            "Epoch 14/50\n",
            "22/22 [==============================] - 145s 7s/step - loss: 1.1239 - accuracy: 0.5160 - val_loss: 1.1882 - val_accuracy: 0.4662\n",
            "Epoch 15/50\n",
            "22/22 [==============================] - 143s 7s/step - loss: 1.1147 - accuracy: 0.5160 - val_loss: 1.1834 - val_accuracy: 0.4696\n",
            "Epoch 16/50\n",
            "22/22 [==============================] - 146s 7s/step - loss: 1.1059 - accuracy: 0.5218 - val_loss: 1.1798 - val_accuracy: 0.4662\n",
            "Epoch 17/50\n",
            "22/22 [==============================] - 146s 7s/step - loss: 1.0988 - accuracy: 0.5116 - val_loss: 1.1786 - val_accuracy: 0.4831\n",
            "Epoch 18/50\n",
            "22/22 [==============================] - 144s 7s/step - loss: 1.0886 - accuracy: 0.5378 - val_loss: 1.1726 - val_accuracy: 0.4730\n",
            "Epoch 19/50\n",
            "22/22 [==============================] - 148s 7s/step - loss: 1.0804 - accuracy: 0.5218 - val_loss: 1.1715 - val_accuracy: 0.4899\n",
            "Epoch 20/50\n",
            "22/22 [==============================] - 148s 7s/step - loss: 1.0728 - accuracy: 0.5407 - val_loss: 1.1657 - val_accuracy: 0.4865\n",
            "Epoch 21/50\n",
            "22/22 [==============================] - 147s 7s/step - loss: 1.0653 - accuracy: 0.5480 - val_loss: 1.1638 - val_accuracy: 0.4966\n",
            "Epoch 22/50\n",
            "22/22 [==============================] - 145s 7s/step - loss: 1.0559 - accuracy: 0.5451 - val_loss: 1.1597 - val_accuracy: 0.5068\n",
            "Epoch 23/50\n",
            "22/22 [==============================] - 144s 7s/step - loss: 1.0504 - accuracy: 0.5581 - val_loss: 1.1593 - val_accuracy: 0.5000\n",
            "Epoch 24/50\n",
            "22/22 [==============================] - 143s 7s/step - loss: 1.0378 - accuracy: 0.5625 - val_loss: 1.1642 - val_accuracy: 0.4966\n",
            "Epoch 25/50\n",
            "22/22 [==============================] - 141s 6s/step - loss: 1.0339 - accuracy: 0.5741 - val_loss: 1.1514 - val_accuracy: 0.5135\n",
            "Epoch 26/50\n",
            "22/22 [==============================] - 141s 6s/step - loss: 1.0231 - accuracy: 0.5683 - val_loss: 1.1601 - val_accuracy: 0.5000\n",
            "Epoch 27/50\n",
            "22/22 [==============================] - 142s 6s/step - loss: 1.0186 - accuracy: 0.5872 - val_loss: 1.1458 - val_accuracy: 0.5101\n",
            "Epoch 28/50\n",
            "22/22 [==============================] - 145s 7s/step - loss: 1.0066 - accuracy: 0.5799 - val_loss: 1.1409 - val_accuracy: 0.5135\n",
            "Epoch 29/50\n",
            "22/22 [==============================] - 141s 6s/step - loss: 0.9991 - accuracy: 0.5872 - val_loss: 1.1382 - val_accuracy: 0.5135\n",
            "Epoch 30/50\n",
            "22/22 [==============================] - 142s 7s/step - loss: 0.9922 - accuracy: 0.5916 - val_loss: 1.1411 - val_accuracy: 0.5169\n",
            "Epoch 31/50\n",
            "22/22 [==============================] - 144s 7s/step - loss: 0.9823 - accuracy: 0.6032 - val_loss: 1.1308 - val_accuracy: 0.5169\n",
            "Epoch 32/50\n",
            "22/22 [==============================] - 146s 7s/step - loss: 0.9741 - accuracy: 0.6017 - val_loss: 1.1336 - val_accuracy: 0.5068\n",
            "Epoch 33/50\n",
            "22/22 [==============================] - 145s 7s/step - loss: 0.9642 - accuracy: 0.6163 - val_loss: 1.1253 - val_accuracy: 0.5169\n",
            "Epoch 34/50\n",
            "22/22 [==============================] - 144s 7s/step - loss: 0.9561 - accuracy: 0.6134 - val_loss: 1.1292 - val_accuracy: 0.5135\n",
            "Epoch 35/50\n",
            "22/22 [==============================] - 147s 7s/step - loss: 0.9506 - accuracy: 0.6192 - val_loss: 1.1203 - val_accuracy: 0.5203\n",
            "Epoch 36/50\n",
            "22/22 [==============================] - 143s 7s/step - loss: 0.9398 - accuracy: 0.6323 - val_loss: 1.1184 - val_accuracy: 0.5304\n",
            "Epoch 37/50\n",
            "22/22 [==============================] - 144s 7s/step - loss: 0.9305 - accuracy: 0.6192 - val_loss: 1.1161 - val_accuracy: 0.5101\n",
            "Epoch 38/50\n",
            "22/22 [==============================] - 145s 7s/step - loss: 0.9222 - accuracy: 0.6337 - val_loss: 1.1127 - val_accuracy: 0.5135\n",
            "Epoch 39/50\n",
            "22/22 [==============================] - 142s 6s/step - loss: 0.9151 - accuracy: 0.6294 - val_loss: 1.1108 - val_accuracy: 0.5236\n",
            "Epoch 40/50\n",
            "22/22 [==============================] - 145s 7s/step - loss: 0.9080 - accuracy: 0.6352 - val_loss: 1.1091 - val_accuracy: 0.5270\n",
            "Epoch 41/50\n",
            " 3/22 [===>..........................] - ETA: 1:48 - loss: 0.9376 - accuracy: 0.5938"
          ]
        },
        {
          "output_type": "error",
          "ename": "KeyboardInterrupt",
          "evalue": "ignored",
          "traceback": [
            "\u001b[0;31m---------------------------------------------------------------------------\u001b[0m",
            "\u001b[0;31mKeyboardInterrupt\u001b[0m                         Traceback (most recent call last)",
            "\u001b[0;32m<ipython-input-68-32e7327d82ba>\u001b[0m in \u001b[0;36m<module>\u001b[0;34m\u001b[0m\n\u001b[1;32m      1\u001b[0m \u001b[0mmodel\u001b[0m\u001b[0;34m.\u001b[0m\u001b[0mcompile\u001b[0m\u001b[0;34m(\u001b[0m\u001b[0moptimizer\u001b[0m\u001b[0;34m=\u001b[0m\u001b[0moptimizers\u001b[0m\u001b[0;34m.\u001b[0m\u001b[0mSGD\u001b[0m\u001b[0;34m(\u001b[0m\u001b[0mlearning_rate\u001b[0m\u001b[0;34m=\u001b[0m\u001b[0;36m0.0001\u001b[0m\u001b[0;34m,\u001b[0m\u001b[0mmomentum\u001b[0m\u001b[0;34m=\u001b[0m\u001b[0;36m0.0\u001b[0m\u001b[0;34m,\u001b[0m\u001b[0mnesterov\u001b[0m\u001b[0;34m=\u001b[0m\u001b[0;32mFalse\u001b[0m\u001b[0;34m,\u001b[0m\u001b[0mname\u001b[0m\u001b[0;34m=\u001b[0m\u001b[0;34m'SGD'\u001b[0m\u001b[0;34m)\u001b[0m\u001b[0;34m,\u001b[0m \u001b[0mloss\u001b[0m\u001b[0;34m=\u001b[0m\u001b[0;34m'categorical_crossentropy'\u001b[0m\u001b[0;34m,\u001b[0m \u001b[0mmetrics\u001b[0m\u001b[0;34m=\u001b[0m\u001b[0;34m[\u001b[0m\u001b[0;34m'accuracy'\u001b[0m\u001b[0;34m]\u001b[0m\u001b[0;34m)\u001b[0m\u001b[0;34m\u001b[0m\u001b[0;34m\u001b[0m\u001b[0m\n\u001b[1;32m      2\u001b[0m \u001b[0;34m\u001b[0m\u001b[0m\n\u001b[0;32m----> 3\u001b[0;31m \u001b[0mhistory\u001b[0m \u001b[0;34m=\u001b[0m \u001b[0mmodel\u001b[0m\u001b[0;34m.\u001b[0m\u001b[0mfit\u001b[0m\u001b[0;34m(\u001b[0m\u001b[0mX_train\u001b[0m\u001b[0;34m,\u001b[0m \u001b[0my_train\u001b[0m\u001b[0;34m,\u001b[0m \u001b[0mbatch_size\u001b[0m\u001b[0;34m=\u001b[0m\u001b[0;36m32\u001b[0m\u001b[0;34m,\u001b[0m \u001b[0mepochs\u001b[0m\u001b[0;34m=\u001b[0m\u001b[0;36m50\u001b[0m\u001b[0;34m,\u001b[0m \u001b[0mverbose\u001b[0m\u001b[0;34m=\u001b[0m\u001b[0;36m1\u001b[0m\u001b[0;34m,\u001b[0m \u001b[0mvalidation_data\u001b[0m\u001b[0;34m=\u001b[0m\u001b[0;34m(\u001b[0m\u001b[0mX_test\u001b[0m \u001b[0;34m,\u001b[0m \u001b[0my_test\u001b[0m\u001b[0;34m)\u001b[0m\u001b[0;34m)\u001b[0m\u001b[0;34m\u001b[0m\u001b[0;34m\u001b[0m\u001b[0m\n\u001b[0m",
            "\u001b[0;32m/usr/local/lib/python3.7/dist-packages/keras/utils/traceback_utils.py\u001b[0m in \u001b[0;36merror_handler\u001b[0;34m(*args, **kwargs)\u001b[0m\n\u001b[1;32m     62\u001b[0m     \u001b[0mfiltered_tb\u001b[0m \u001b[0;34m=\u001b[0m \u001b[0;32mNone\u001b[0m\u001b[0;34m\u001b[0m\u001b[0;34m\u001b[0m\u001b[0m\n\u001b[1;32m     63\u001b[0m     \u001b[0;32mtry\u001b[0m\u001b[0;34m:\u001b[0m\u001b[0;34m\u001b[0m\u001b[0;34m\u001b[0m\u001b[0m\n\u001b[0;32m---> 64\u001b[0;31m       \u001b[0;32mreturn\u001b[0m \u001b[0mfn\u001b[0m\u001b[0;34m(\u001b[0m\u001b[0;34m*\u001b[0m\u001b[0margs\u001b[0m\u001b[0;34m,\u001b[0m \u001b[0;34m**\u001b[0m\u001b[0mkwargs\u001b[0m\u001b[0;34m)\u001b[0m\u001b[0;34m\u001b[0m\u001b[0;34m\u001b[0m\u001b[0m\n\u001b[0m\u001b[1;32m     65\u001b[0m     \u001b[0;32mexcept\u001b[0m \u001b[0mException\u001b[0m \u001b[0;32mas\u001b[0m \u001b[0me\u001b[0m\u001b[0;34m:\u001b[0m  \u001b[0;31m# pylint: disable=broad-except\u001b[0m\u001b[0;34m\u001b[0m\u001b[0;34m\u001b[0m\u001b[0m\n\u001b[1;32m     66\u001b[0m       \u001b[0mfiltered_tb\u001b[0m \u001b[0;34m=\u001b[0m \u001b[0m_process_traceback_frames\u001b[0m\u001b[0;34m(\u001b[0m\u001b[0me\u001b[0m\u001b[0;34m.\u001b[0m\u001b[0m__traceback__\u001b[0m\u001b[0;34m)\u001b[0m\u001b[0;34m\u001b[0m\u001b[0;34m\u001b[0m\u001b[0m\n",
            "\u001b[0;32m/usr/local/lib/python3.7/dist-packages/keras/engine/training.py\u001b[0m in \u001b[0;36mfit\u001b[0;34m(self, x, y, batch_size, epochs, verbose, callbacks, validation_split, validation_data, shuffle, class_weight, sample_weight, initial_epoch, steps_per_epoch, validation_steps, validation_batch_size, validation_freq, max_queue_size, workers, use_multiprocessing)\u001b[0m\n\u001b[1;32m   1407\u001b[0m                 _r=1):\n\u001b[1;32m   1408\u001b[0m               \u001b[0mcallbacks\u001b[0m\u001b[0;34m.\u001b[0m\u001b[0mon_train_batch_begin\u001b[0m\u001b[0;34m(\u001b[0m\u001b[0mstep\u001b[0m\u001b[0;34m)\u001b[0m\u001b[0;34m\u001b[0m\u001b[0;34m\u001b[0m\u001b[0m\n\u001b[0;32m-> 1409\u001b[0;31m               \u001b[0mtmp_logs\u001b[0m \u001b[0;34m=\u001b[0m \u001b[0mself\u001b[0m\u001b[0;34m.\u001b[0m\u001b[0mtrain_function\u001b[0m\u001b[0;34m(\u001b[0m\u001b[0miterator\u001b[0m\u001b[0;34m)\u001b[0m\u001b[0;34m\u001b[0m\u001b[0;34m\u001b[0m\u001b[0m\n\u001b[0m\u001b[1;32m   1410\u001b[0m               \u001b[0;32mif\u001b[0m \u001b[0mdata_handler\u001b[0m\u001b[0;34m.\u001b[0m\u001b[0mshould_sync\u001b[0m\u001b[0;34m:\u001b[0m\u001b[0;34m\u001b[0m\u001b[0;34m\u001b[0m\u001b[0m\n\u001b[1;32m   1411\u001b[0m                 \u001b[0mcontext\u001b[0m\u001b[0;34m.\u001b[0m\u001b[0masync_wait\u001b[0m\u001b[0;34m(\u001b[0m\u001b[0;34m)\u001b[0m\u001b[0;34m\u001b[0m\u001b[0;34m\u001b[0m\u001b[0m\n",
            "\u001b[0;32m/usr/local/lib/python3.7/dist-packages/tensorflow/python/util/traceback_utils.py\u001b[0m in \u001b[0;36merror_handler\u001b[0;34m(*args, **kwargs)\u001b[0m\n\u001b[1;32m    148\u001b[0m     \u001b[0mfiltered_tb\u001b[0m \u001b[0;34m=\u001b[0m \u001b[0;32mNone\u001b[0m\u001b[0;34m\u001b[0m\u001b[0;34m\u001b[0m\u001b[0m\n\u001b[1;32m    149\u001b[0m     \u001b[0;32mtry\u001b[0m\u001b[0;34m:\u001b[0m\u001b[0;34m\u001b[0m\u001b[0;34m\u001b[0m\u001b[0m\n\u001b[0;32m--> 150\u001b[0;31m       \u001b[0;32mreturn\u001b[0m \u001b[0mfn\u001b[0m\u001b[0;34m(\u001b[0m\u001b[0;34m*\u001b[0m\u001b[0margs\u001b[0m\u001b[0;34m,\u001b[0m \u001b[0;34m**\u001b[0m\u001b[0mkwargs\u001b[0m\u001b[0;34m)\u001b[0m\u001b[0;34m\u001b[0m\u001b[0;34m\u001b[0m\u001b[0m\n\u001b[0m\u001b[1;32m    151\u001b[0m     \u001b[0;32mexcept\u001b[0m \u001b[0mException\u001b[0m \u001b[0;32mas\u001b[0m \u001b[0me\u001b[0m\u001b[0;34m:\u001b[0m\u001b[0;34m\u001b[0m\u001b[0;34m\u001b[0m\u001b[0m\n\u001b[1;32m    152\u001b[0m       \u001b[0mfiltered_tb\u001b[0m \u001b[0;34m=\u001b[0m \u001b[0m_process_traceback_frames\u001b[0m\u001b[0;34m(\u001b[0m\u001b[0me\u001b[0m\u001b[0;34m.\u001b[0m\u001b[0m__traceback__\u001b[0m\u001b[0;34m)\u001b[0m\u001b[0;34m\u001b[0m\u001b[0;34m\u001b[0m\u001b[0m\n",
            "\u001b[0;32m/usr/local/lib/python3.7/dist-packages/tensorflow/python/eager/def_function.py\u001b[0m in \u001b[0;36m__call__\u001b[0;34m(self, *args, **kwds)\u001b[0m\n\u001b[1;32m    913\u001b[0m \u001b[0;34m\u001b[0m\u001b[0m\n\u001b[1;32m    914\u001b[0m       \u001b[0;32mwith\u001b[0m \u001b[0mOptionalXlaContext\u001b[0m\u001b[0;34m(\u001b[0m\u001b[0mself\u001b[0m\u001b[0;34m.\u001b[0m\u001b[0m_jit_compile\u001b[0m\u001b[0;34m)\u001b[0m\u001b[0;34m:\u001b[0m\u001b[0;34m\u001b[0m\u001b[0;34m\u001b[0m\u001b[0m\n\u001b[0;32m--> 915\u001b[0;31m         \u001b[0mresult\u001b[0m \u001b[0;34m=\u001b[0m \u001b[0mself\u001b[0m\u001b[0;34m.\u001b[0m\u001b[0m_call\u001b[0m\u001b[0;34m(\u001b[0m\u001b[0;34m*\u001b[0m\u001b[0margs\u001b[0m\u001b[0;34m,\u001b[0m \u001b[0;34m**\u001b[0m\u001b[0mkwds\u001b[0m\u001b[0;34m)\u001b[0m\u001b[0;34m\u001b[0m\u001b[0;34m\u001b[0m\u001b[0m\n\u001b[0m\u001b[1;32m    916\u001b[0m \u001b[0;34m\u001b[0m\u001b[0m\n\u001b[1;32m    917\u001b[0m       \u001b[0mnew_tracing_count\u001b[0m \u001b[0;34m=\u001b[0m \u001b[0mself\u001b[0m\u001b[0;34m.\u001b[0m\u001b[0mexperimental_get_tracing_count\u001b[0m\u001b[0;34m(\u001b[0m\u001b[0;34m)\u001b[0m\u001b[0;34m\u001b[0m\u001b[0;34m\u001b[0m\u001b[0m\n",
            "\u001b[0;32m/usr/local/lib/python3.7/dist-packages/tensorflow/python/eager/def_function.py\u001b[0m in \u001b[0;36m_call\u001b[0;34m(self, *args, **kwds)\u001b[0m\n\u001b[1;32m    945\u001b[0m       \u001b[0;31m# In this case we have created variables on the first call, so we run the\u001b[0m\u001b[0;34m\u001b[0m\u001b[0;34m\u001b[0m\u001b[0;34m\u001b[0m\u001b[0m\n\u001b[1;32m    946\u001b[0m       \u001b[0;31m# defunned version which is guaranteed to never create variables.\u001b[0m\u001b[0;34m\u001b[0m\u001b[0;34m\u001b[0m\u001b[0;34m\u001b[0m\u001b[0m\n\u001b[0;32m--> 947\u001b[0;31m       \u001b[0;32mreturn\u001b[0m \u001b[0mself\u001b[0m\u001b[0;34m.\u001b[0m\u001b[0m_stateless_fn\u001b[0m\u001b[0;34m(\u001b[0m\u001b[0;34m*\u001b[0m\u001b[0margs\u001b[0m\u001b[0;34m,\u001b[0m \u001b[0;34m**\u001b[0m\u001b[0mkwds\u001b[0m\u001b[0;34m)\u001b[0m  \u001b[0;31m# pylint: disable=not-callable\u001b[0m\u001b[0;34m\u001b[0m\u001b[0;34m\u001b[0m\u001b[0m\n\u001b[0m\u001b[1;32m    948\u001b[0m     \u001b[0;32melif\u001b[0m \u001b[0mself\u001b[0m\u001b[0;34m.\u001b[0m\u001b[0m_stateful_fn\u001b[0m \u001b[0;32mis\u001b[0m \u001b[0;32mnot\u001b[0m \u001b[0;32mNone\u001b[0m\u001b[0;34m:\u001b[0m\u001b[0;34m\u001b[0m\u001b[0;34m\u001b[0m\u001b[0m\n\u001b[1;32m    949\u001b[0m       \u001b[0;31m# Release the lock early so that multiple threads can perform the call\u001b[0m\u001b[0;34m\u001b[0m\u001b[0;34m\u001b[0m\u001b[0;34m\u001b[0m\u001b[0m\n",
            "\u001b[0;32m/usr/local/lib/python3.7/dist-packages/tensorflow/python/eager/function.py\u001b[0m in \u001b[0;36m__call__\u001b[0;34m(self, *args, **kwargs)\u001b[0m\n\u001b[1;32m   2452\u001b[0m        filtered_flat_args) = self._maybe_define_function(args, kwargs)\n\u001b[1;32m   2453\u001b[0m     return graph_function._call_flat(\n\u001b[0;32m-> 2454\u001b[0;31m         filtered_flat_args, captured_inputs=graph_function.captured_inputs)  # pylint: disable=protected-access\n\u001b[0m\u001b[1;32m   2455\u001b[0m \u001b[0;34m\u001b[0m\u001b[0m\n\u001b[1;32m   2456\u001b[0m   \u001b[0;34m@\u001b[0m\u001b[0mproperty\u001b[0m\u001b[0;34m\u001b[0m\u001b[0;34m\u001b[0m\u001b[0m\n",
            "\u001b[0;32m/usr/local/lib/python3.7/dist-packages/tensorflow/python/eager/function.py\u001b[0m in \u001b[0;36m_call_flat\u001b[0;34m(self, args, captured_inputs, cancellation_manager)\u001b[0m\n\u001b[1;32m   1859\u001b[0m       \u001b[0;31m# No tape is watching; skip to running the function.\u001b[0m\u001b[0;34m\u001b[0m\u001b[0;34m\u001b[0m\u001b[0;34m\u001b[0m\u001b[0m\n\u001b[1;32m   1860\u001b[0m       return self._build_call_outputs(self._inference_function.call(\n\u001b[0;32m-> 1861\u001b[0;31m           ctx, args, cancellation_manager=cancellation_manager))\n\u001b[0m\u001b[1;32m   1862\u001b[0m     forward_backward = self._select_forward_and_backward_functions(\n\u001b[1;32m   1863\u001b[0m         \u001b[0margs\u001b[0m\u001b[0;34m,\u001b[0m\u001b[0;34m\u001b[0m\u001b[0;34m\u001b[0m\u001b[0m\n",
            "\u001b[0;32m/usr/local/lib/python3.7/dist-packages/tensorflow/python/eager/function.py\u001b[0m in \u001b[0;36mcall\u001b[0;34m(self, ctx, args, cancellation_manager)\u001b[0m\n\u001b[1;32m    500\u001b[0m               \u001b[0minputs\u001b[0m\u001b[0;34m=\u001b[0m\u001b[0margs\u001b[0m\u001b[0;34m,\u001b[0m\u001b[0;34m\u001b[0m\u001b[0;34m\u001b[0m\u001b[0m\n\u001b[1;32m    501\u001b[0m               \u001b[0mattrs\u001b[0m\u001b[0;34m=\u001b[0m\u001b[0mattrs\u001b[0m\u001b[0;34m,\u001b[0m\u001b[0;34m\u001b[0m\u001b[0;34m\u001b[0m\u001b[0m\n\u001b[0;32m--> 502\u001b[0;31m               ctx=ctx)\n\u001b[0m\u001b[1;32m    503\u001b[0m         \u001b[0;32melse\u001b[0m\u001b[0;34m:\u001b[0m\u001b[0;34m\u001b[0m\u001b[0;34m\u001b[0m\u001b[0m\n\u001b[1;32m    504\u001b[0m           outputs = execute.execute_with_cancellation(\n",
            "\u001b[0;32m/usr/local/lib/python3.7/dist-packages/tensorflow/python/eager/execute.py\u001b[0m in \u001b[0;36mquick_execute\u001b[0;34m(op_name, num_outputs, inputs, attrs, ctx, name)\u001b[0m\n\u001b[1;32m     53\u001b[0m     \u001b[0mctx\u001b[0m\u001b[0;34m.\u001b[0m\u001b[0mensure_initialized\u001b[0m\u001b[0;34m(\u001b[0m\u001b[0;34m)\u001b[0m\u001b[0;34m\u001b[0m\u001b[0;34m\u001b[0m\u001b[0m\n\u001b[1;32m     54\u001b[0m     tensors = pywrap_tfe.TFE_Py_Execute(ctx._handle, device_name, op_name,\n\u001b[0;32m---> 55\u001b[0;31m                                         inputs, attrs, num_outputs)\n\u001b[0m\u001b[1;32m     56\u001b[0m   \u001b[0;32mexcept\u001b[0m \u001b[0mcore\u001b[0m\u001b[0;34m.\u001b[0m\u001b[0m_NotOkStatusException\u001b[0m \u001b[0;32mas\u001b[0m \u001b[0me\u001b[0m\u001b[0;34m:\u001b[0m\u001b[0;34m\u001b[0m\u001b[0;34m\u001b[0m\u001b[0m\n\u001b[1;32m     57\u001b[0m     \u001b[0;32mif\u001b[0m \u001b[0mname\u001b[0m \u001b[0;32mis\u001b[0m \u001b[0;32mnot\u001b[0m \u001b[0;32mNone\u001b[0m\u001b[0;34m:\u001b[0m\u001b[0;34m\u001b[0m\u001b[0;34m\u001b[0m\u001b[0m\n",
            "\u001b[0;31mKeyboardInterrupt\u001b[0m: "
          ]
        }
      ]
    },
    {
      "cell_type": "code",
      "source": [
        "y_pred = model.predict(X_test)\n",
        "y_pred=np.argmax(y_pred, axis=1) + 5"
      ],
      "metadata": {
        "colab": {
          "base_uri": "https://localhost:8080/"
        },
        "id": "NUu_hT8hWCwp",
        "outputId": "016b5188-887b-4e0c-9086-1bc7be3b630c"
      },
      "execution_count": 69,
      "outputs": [
        {
          "output_type": "stream",
          "name": "stdout",
          "text": [
            "10/10 [==============================] - 25s 3s/step\n"
          ]
        }
      ]
    },
    {
      "cell_type": "code",
      "source": [
        "print(y_pred)"
      ],
      "metadata": {
        "colab": {
          "base_uri": "https://localhost:8080/"
        },
        "id": "is4c64s8YX1X",
        "outputId": "c100f9da-c3c2-4a20-d853-d89811c829b9"
      },
      "execution_count": 70,
      "outputs": [
        {
          "output_type": "stream",
          "name": "stdout",
          "text": [
            "[6 6 5 6 6 5 8 5 5 5 5 5 5 6 6 5 5 5 5 5 8 8 8 5 8 5 6 5 6 5 6 8 5 5 8 8 5\n",
            " 5 5 5 5 6 8 5 8 6 5 5 8 5 6 5 5 6 5 5 5 6 6 8 5 8 6 5 5 5 8 5 5 5 5 6 6 5\n",
            " 5 5 8 6 5 8 8 5 6 5 6 5 5 5 8 8 8 5 8 5 5 6 5 6 5 5 5 5 5 5 5 5 8 8 5 5 5\n",
            " 8 5 8 8 5 5 6 5 6 6 5 5 8 8 8 6 8 5 6 5 8 5 5 8 5 5 5 5 6 6 5 5 5 5 6 5 5\n",
            " 5 5 5 5 8 5 6 5 5 5 5 5 5 5 5 6 8 5 8 8 5 5 5 6 5 5 5 8 7 6 8 5 5 6 6 6 5\n",
            " 6 6 5 5 5 6 5 6 6 5 6 5 5 5 5 5 5 5 5 5 5 6 8 5 6 6 6 5 5 5 5 5 6 6 6 6 6\n",
            " 5 5 5 5 5 5 5 5 5 5 5 5 7 5 8 5 5 6 6 5 8 5 8 5 6 5 6 6 5 5 5 8 8 5 6 6 8\n",
            " 6 8 5 5 6 5 5 5 5 8 5 5 8 8 5 5 6 5 6 8 5 8 8 6 8 5 6 5 5 5 8 5 5 8 6 5 6]\n"
          ]
        }
      ]
    }
  ],
  "metadata": {
    "colab": {
      "provenance": []
    },
    "kernelspec": {
      "display_name": "Python 3",
      "name": "python3"
    },
    "language_info": {
      "name": "python"
    }
  },
  "nbformat": 4,
  "nbformat_minor": 0
}